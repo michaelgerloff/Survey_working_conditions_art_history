{
 "cells": [
  {
   "cell_type": "code",
   "execution_count": 122,
   "metadata": {},
   "outputs": [],
   "source": [
    "import pandas as pd"
   ]
  },
  {
   "cell_type": "markdown",
   "metadata": {},
   "source": [
    "# Museum"
   ]
  },
  {
   "cell_type": "code",
   "execution_count": 123,
   "metadata": {},
   "outputs": [],
   "source": [
    "df_museum = pd.read_csv('../data/processed/02_cleaned_data_M.csv', index_col=0)"
   ]
  },
  {
   "cell_type": "code",
   "execution_count": 124,
   "metadata": {},
   "outputs": [
    {
     "data": {
      "text/html": [
       "<div>\n",
       "<style scoped>\n",
       "    .dataframe tbody tr th:only-of-type {\n",
       "        vertical-align: middle;\n",
       "    }\n",
       "\n",
       "    .dataframe tbody tr th {\n",
       "        vertical-align: top;\n",
       "    }\n",
       "\n",
       "    .dataframe thead th {\n",
       "        text-align: right;\n",
       "    }\n",
       "</style>\n",
       "<table border=\"1\" class=\"dataframe\">\n",
       "  <thead>\n",
       "    <tr style=\"text-align: right;\">\n",
       "      <th></th>\n",
       "      <th>AP1. Wie alt sind Sie?</th>\n",
       "      <th>AP1. Wie alt sind Sie?_0.0</th>\n",
       "      <th>AP1. Wie alt sind Sie?_1.0</th>\n",
       "      <th>AP1. Wie alt sind Sie?_10.0</th>\n",
       "      <th>AP1. Wie alt sind Sie?_2.0</th>\n",
       "      <th>AP1. Wie alt sind Sie?_3.0</th>\n",
       "      <th>AP1. Wie alt sind Sie?_4.0</th>\n",
       "      <th>AP1. Wie alt sind Sie?_5.0</th>\n",
       "      <th>AP1. Wie alt sind Sie?_6.0</th>\n",
       "      <th>AP1. Wie alt sind Sie?_7.0</th>\n",
       "      <th>...</th>\n",
       "      <th>M9u[SQ005]. Wie ist Ihre Perspektive nach Ablauf Ihres derzeitigen Arbeitsvertrags?  [Unbefristete Stelle an einer anderen Institution ]</th>\n",
       "      <th>M9u[SQ006]. Wie ist Ihre Perspektive nach Ablauf Ihres derzeitigen Arbeitsvertrags?  [Befristete Stelle bzw. Projekt an einer anderen Institution]</th>\n",
       "      <th>M9u[SQ007]. Wie ist Ihre Perspektive nach Ablauf Ihres derzeitigen Arbeitsvertrags?  [Antrags- bzw. Bewerbungsphase]</th>\n",
       "      <th>M9u[SQ008]. Wie ist Ihre Perspektive nach Ablauf Ihres derzeitigen Arbeitsvertrags?  [Hoffnung auf eine Stelle oder ein Anschlussprojekt]</th>\n",
       "      <th>M9u[SQ009]. Wie ist Ihre Perspektive nach Ablauf Ihres derzeitigen Arbeitsvertrags?  [Weiterqualifikation ]</th>\n",
       "      <th>M9u[SQ010]. Wie ist Ihre Perspektive nach Ablauf Ihres derzeitigen Arbeitsvertrags?  [Mutterschutz bzw. Elternzeit]</th>\n",
       "      <th>M9u[SQ011]. Wie ist Ihre Perspektive nach Ablauf Ihres derzeitigen Arbeitsvertrags?  [Berufliche Umorientierung ]</th>\n",
       "      <th>M9u[SQ012]. Wie ist Ihre Perspektive nach Ablauf Ihres derzeitigen Arbeitsvertrags?  [Anspruch auf ALG I ]</th>\n",
       "      <th>M9u[SQ013]. Wie ist Ihre Perspektive nach Ablauf Ihres derzeitigen Arbeitsvertrags?  [Antrag auf ALG II (Hartz IV) ]</th>\n",
       "      <th>id. Antwort ID</th>\n",
       "    </tr>\n",
       "  </thead>\n",
       "  <tbody>\n",
       "    <tr>\n",
       "      <th>0</th>\n",
       "      <td>2.0</td>\n",
       "      <td>False</td>\n",
       "      <td>False</td>\n",
       "      <td>False</td>\n",
       "      <td>True</td>\n",
       "      <td>False</td>\n",
       "      <td>False</td>\n",
       "      <td>False</td>\n",
       "      <td>False</td>\n",
       "      <td>False</td>\n",
       "      <td>...</td>\n",
       "      <td>0.0</td>\n",
       "      <td>0.0</td>\n",
       "      <td>0.0</td>\n",
       "      <td>0.0</td>\n",
       "      <td>0.0</td>\n",
       "      <td>0.0</td>\n",
       "      <td>0.0</td>\n",
       "      <td>0.0</td>\n",
       "      <td>0.0</td>\n",
       "      <td>953</td>\n",
       "    </tr>\n",
       "    <tr>\n",
       "      <th>1</th>\n",
       "      <td>2.0</td>\n",
       "      <td>False</td>\n",
       "      <td>False</td>\n",
       "      <td>False</td>\n",
       "      <td>True</td>\n",
       "      <td>False</td>\n",
       "      <td>False</td>\n",
       "      <td>False</td>\n",
       "      <td>False</td>\n",
       "      <td>False</td>\n",
       "      <td>...</td>\n",
       "      <td>0.0</td>\n",
       "      <td>0.0</td>\n",
       "      <td>0.0</td>\n",
       "      <td>0.0</td>\n",
       "      <td>0.0</td>\n",
       "      <td>0.0</td>\n",
       "      <td>0.0</td>\n",
       "      <td>0.0</td>\n",
       "      <td>0.0</td>\n",
       "      <td>24</td>\n",
       "    </tr>\n",
       "    <tr>\n",
       "      <th>3</th>\n",
       "      <td>2.0</td>\n",
       "      <td>False</td>\n",
       "      <td>False</td>\n",
       "      <td>False</td>\n",
       "      <td>True</td>\n",
       "      <td>False</td>\n",
       "      <td>False</td>\n",
       "      <td>False</td>\n",
       "      <td>False</td>\n",
       "      <td>False</td>\n",
       "      <td>...</td>\n",
       "      <td>0.0</td>\n",
       "      <td>0.0</td>\n",
       "      <td>0.0</td>\n",
       "      <td>0.0</td>\n",
       "      <td>0.0</td>\n",
       "      <td>0.0</td>\n",
       "      <td>0.0</td>\n",
       "      <td>0.0</td>\n",
       "      <td>0.0</td>\n",
       "      <td>65</td>\n",
       "    </tr>\n",
       "    <tr>\n",
       "      <th>5</th>\n",
       "      <td>10.0</td>\n",
       "      <td>False</td>\n",
       "      <td>False</td>\n",
       "      <td>True</td>\n",
       "      <td>False</td>\n",
       "      <td>False</td>\n",
       "      <td>False</td>\n",
       "      <td>False</td>\n",
       "      <td>False</td>\n",
       "      <td>False</td>\n",
       "      <td>...</td>\n",
       "      <td>NaN</td>\n",
       "      <td>NaN</td>\n",
       "      <td>NaN</td>\n",
       "      <td>NaN</td>\n",
       "      <td>NaN</td>\n",
       "      <td>NaN</td>\n",
       "      <td>NaN</td>\n",
       "      <td>NaN</td>\n",
       "      <td>NaN</td>\n",
       "      <td>94</td>\n",
       "    </tr>\n",
       "    <tr>\n",
       "      <th>15</th>\n",
       "      <td>1.0</td>\n",
       "      <td>False</td>\n",
       "      <td>True</td>\n",
       "      <td>False</td>\n",
       "      <td>False</td>\n",
       "      <td>False</td>\n",
       "      <td>False</td>\n",
       "      <td>False</td>\n",
       "      <td>False</td>\n",
       "      <td>False</td>\n",
       "      <td>...</td>\n",
       "      <td>0.0</td>\n",
       "      <td>0.0</td>\n",
       "      <td>1.0</td>\n",
       "      <td>0.0</td>\n",
       "      <td>0.0</td>\n",
       "      <td>0.0</td>\n",
       "      <td>0.0</td>\n",
       "      <td>0.0</td>\n",
       "      <td>0.0</td>\n",
       "      <td>203</td>\n",
       "    </tr>\n",
       "    <tr>\n",
       "      <th>...</th>\n",
       "      <td>...</td>\n",
       "      <td>...</td>\n",
       "      <td>...</td>\n",
       "      <td>...</td>\n",
       "      <td>...</td>\n",
       "      <td>...</td>\n",
       "      <td>...</td>\n",
       "      <td>...</td>\n",
       "      <td>...</td>\n",
       "      <td>...</td>\n",
       "      <td>...</td>\n",
       "      <td>...</td>\n",
       "      <td>...</td>\n",
       "      <td>...</td>\n",
       "      <td>...</td>\n",
       "      <td>...</td>\n",
       "      <td>...</td>\n",
       "      <td>...</td>\n",
       "      <td>...</td>\n",
       "      <td>...</td>\n",
       "      <td>...</td>\n",
       "    </tr>\n",
       "    <tr>\n",
       "      <th>1000</th>\n",
       "      <td>6.0</td>\n",
       "      <td>False</td>\n",
       "      <td>False</td>\n",
       "      <td>False</td>\n",
       "      <td>False</td>\n",
       "      <td>False</td>\n",
       "      <td>False</td>\n",
       "      <td>False</td>\n",
       "      <td>True</td>\n",
       "      <td>False</td>\n",
       "      <td>...</td>\n",
       "      <td>0.0</td>\n",
       "      <td>0.0</td>\n",
       "      <td>0.0</td>\n",
       "      <td>1.0</td>\n",
       "      <td>0.0</td>\n",
       "      <td>0.0</td>\n",
       "      <td>0.0</td>\n",
       "      <td>0.0</td>\n",
       "      <td>0.0</td>\n",
       "      <td>470</td>\n",
       "    </tr>\n",
       "    <tr>\n",
       "      <th>1002</th>\n",
       "      <td>4.0</td>\n",
       "      <td>False</td>\n",
       "      <td>False</td>\n",
       "      <td>False</td>\n",
       "      <td>False</td>\n",
       "      <td>False</td>\n",
       "      <td>True</td>\n",
       "      <td>False</td>\n",
       "      <td>False</td>\n",
       "      <td>False</td>\n",
       "      <td>...</td>\n",
       "      <td>NaN</td>\n",
       "      <td>NaN</td>\n",
       "      <td>NaN</td>\n",
       "      <td>NaN</td>\n",
       "      <td>NaN</td>\n",
       "      <td>NaN</td>\n",
       "      <td>NaN</td>\n",
       "      <td>NaN</td>\n",
       "      <td>NaN</td>\n",
       "      <td>510</td>\n",
       "    </tr>\n",
       "    <tr>\n",
       "      <th>1004</th>\n",
       "      <td>3.0</td>\n",
       "      <td>False</td>\n",
       "      <td>False</td>\n",
       "      <td>False</td>\n",
       "      <td>False</td>\n",
       "      <td>True</td>\n",
       "      <td>False</td>\n",
       "      <td>False</td>\n",
       "      <td>False</td>\n",
       "      <td>False</td>\n",
       "      <td>...</td>\n",
       "      <td>NaN</td>\n",
       "      <td>NaN</td>\n",
       "      <td>NaN</td>\n",
       "      <td>NaN</td>\n",
       "      <td>NaN</td>\n",
       "      <td>NaN</td>\n",
       "      <td>NaN</td>\n",
       "      <td>NaN</td>\n",
       "      <td>NaN</td>\n",
       "      <td>899</td>\n",
       "    </tr>\n",
       "    <tr>\n",
       "      <th>1009</th>\n",
       "      <td>3.0</td>\n",
       "      <td>False</td>\n",
       "      <td>False</td>\n",
       "      <td>False</td>\n",
       "      <td>False</td>\n",
       "      <td>True</td>\n",
       "      <td>False</td>\n",
       "      <td>False</td>\n",
       "      <td>False</td>\n",
       "      <td>False</td>\n",
       "      <td>...</td>\n",
       "      <td>0.0</td>\n",
       "      <td>0.0</td>\n",
       "      <td>1.0</td>\n",
       "      <td>1.0</td>\n",
       "      <td>0.0</td>\n",
       "      <td>1.0</td>\n",
       "      <td>0.0</td>\n",
       "      <td>0.0</td>\n",
       "      <td>0.0</td>\n",
       "      <td>1090</td>\n",
       "    </tr>\n",
       "    <tr>\n",
       "      <th>1012</th>\n",
       "      <td>3.0</td>\n",
       "      <td>False</td>\n",
       "      <td>False</td>\n",
       "      <td>False</td>\n",
       "      <td>False</td>\n",
       "      <td>True</td>\n",
       "      <td>False</td>\n",
       "      <td>False</td>\n",
       "      <td>False</td>\n",
       "      <td>False</td>\n",
       "      <td>...</td>\n",
       "      <td>0.0</td>\n",
       "      <td>1.0</td>\n",
       "      <td>1.0</td>\n",
       "      <td>0.0</td>\n",
       "      <td>0.0</td>\n",
       "      <td>0.0</td>\n",
       "      <td>0.0</td>\n",
       "      <td>1.0</td>\n",
       "      <td>0.0</td>\n",
       "      <td>1726</td>\n",
       "    </tr>\n",
       "  </tbody>\n",
       "</table>\n",
       "<p>403 rows × 258 columns</p>\n",
       "</div>"
      ],
      "text/plain": [
       "      AP1. Wie alt sind Sie?  AP1. Wie alt sind Sie?_0.0  \\\n",
       "0                        2.0                       False   \n",
       "1                        2.0                       False   \n",
       "3                        2.0                       False   \n",
       "5                       10.0                       False   \n",
       "15                       1.0                       False   \n",
       "...                      ...                         ...   \n",
       "1000                     6.0                       False   \n",
       "1002                     4.0                       False   \n",
       "1004                     3.0                       False   \n",
       "1009                     3.0                       False   \n",
       "1012                     3.0                       False   \n",
       "\n",
       "      AP1. Wie alt sind Sie?_1.0  AP1. Wie alt sind Sie?_10.0  \\\n",
       "0                          False                        False   \n",
       "1                          False                        False   \n",
       "3                          False                        False   \n",
       "5                          False                         True   \n",
       "15                          True                        False   \n",
       "...                          ...                          ...   \n",
       "1000                       False                        False   \n",
       "1002                       False                        False   \n",
       "1004                       False                        False   \n",
       "1009                       False                        False   \n",
       "1012                       False                        False   \n",
       "\n",
       "      AP1. Wie alt sind Sie?_2.0  AP1. Wie alt sind Sie?_3.0  \\\n",
       "0                           True                       False   \n",
       "1                           True                       False   \n",
       "3                           True                       False   \n",
       "5                          False                       False   \n",
       "15                         False                       False   \n",
       "...                          ...                         ...   \n",
       "1000                       False                       False   \n",
       "1002                       False                       False   \n",
       "1004                       False                        True   \n",
       "1009                       False                        True   \n",
       "1012                       False                        True   \n",
       "\n",
       "      AP1. Wie alt sind Sie?_4.0  AP1. Wie alt sind Sie?_5.0  \\\n",
       "0                          False                       False   \n",
       "1                          False                       False   \n",
       "3                          False                       False   \n",
       "5                          False                       False   \n",
       "15                         False                       False   \n",
       "...                          ...                         ...   \n",
       "1000                       False                       False   \n",
       "1002                        True                       False   \n",
       "1004                       False                       False   \n",
       "1009                       False                       False   \n",
       "1012                       False                       False   \n",
       "\n",
       "      AP1. Wie alt sind Sie?_6.0  AP1. Wie alt sind Sie?_7.0  ...  \\\n",
       "0                          False                       False  ...   \n",
       "1                          False                       False  ...   \n",
       "3                          False                       False  ...   \n",
       "5                          False                       False  ...   \n",
       "15                         False                       False  ...   \n",
       "...                          ...                         ...  ...   \n",
       "1000                        True                       False  ...   \n",
       "1002                       False                       False  ...   \n",
       "1004                       False                       False  ...   \n",
       "1009                       False                       False  ...   \n",
       "1012                       False                       False  ...   \n",
       "\n",
       "      M9u[SQ005]. Wie ist Ihre Perspektive nach Ablauf Ihres derzeitigen Arbeitsvertrags?  [Unbefristete Stelle an einer anderen Institution ]  \\\n",
       "0                                                   0.0                                                                                          \n",
       "1                                                   0.0                                                                                          \n",
       "3                                                   0.0                                                                                          \n",
       "5                                                   NaN                                                                                          \n",
       "15                                                  0.0                                                                                          \n",
       "...                                                 ...                                                                                          \n",
       "1000                                                0.0                                                                                          \n",
       "1002                                                NaN                                                                                          \n",
       "1004                                                NaN                                                                                          \n",
       "1009                                                0.0                                                                                          \n",
       "1012                                                0.0                                                                                          \n",
       "\n",
       "      M9u[SQ006]. Wie ist Ihre Perspektive nach Ablauf Ihres derzeitigen Arbeitsvertrags?  [Befristete Stelle bzw. Projekt an einer anderen Institution]  \\\n",
       "0                                                   0.0                                                                                                    \n",
       "1                                                   0.0                                                                                                    \n",
       "3                                                   0.0                                                                                                    \n",
       "5                                                   NaN                                                                                                    \n",
       "15                                                  0.0                                                                                                    \n",
       "...                                                 ...                                                                                                    \n",
       "1000                                                0.0                                                                                                    \n",
       "1002                                                NaN                                                                                                    \n",
       "1004                                                NaN                                                                                                    \n",
       "1009                                                0.0                                                                                                    \n",
       "1012                                                1.0                                                                                                    \n",
       "\n",
       "      M9u[SQ007]. Wie ist Ihre Perspektive nach Ablauf Ihres derzeitigen Arbeitsvertrags?  [Antrags- bzw. Bewerbungsphase]  \\\n",
       "0                                                   0.0                                                                      \n",
       "1                                                   0.0                                                                      \n",
       "3                                                   0.0                                                                      \n",
       "5                                                   NaN                                                                      \n",
       "15                                                  1.0                                                                      \n",
       "...                                                 ...                                                                      \n",
       "1000                                                0.0                                                                      \n",
       "1002                                                NaN                                                                      \n",
       "1004                                                NaN                                                                      \n",
       "1009                                                1.0                                                                      \n",
       "1012                                                1.0                                                                      \n",
       "\n",
       "      M9u[SQ008]. Wie ist Ihre Perspektive nach Ablauf Ihres derzeitigen Arbeitsvertrags?  [Hoffnung auf eine Stelle oder ein Anschlussprojekt]  \\\n",
       "0                                                   0.0                                                                                           \n",
       "1                                                   0.0                                                                                           \n",
       "3                                                   0.0                                                                                           \n",
       "5                                                   NaN                                                                                           \n",
       "15                                                  0.0                                                                                           \n",
       "...                                                 ...                                                                                           \n",
       "1000                                                1.0                                                                                           \n",
       "1002                                                NaN                                                                                           \n",
       "1004                                                NaN                                                                                           \n",
       "1009                                                1.0                                                                                           \n",
       "1012                                                0.0                                                                                           \n",
       "\n",
       "      M9u[SQ009]. Wie ist Ihre Perspektive nach Ablauf Ihres derzeitigen Arbeitsvertrags?  [Weiterqualifikation ]  \\\n",
       "0                                                   0.0                                                             \n",
       "1                                                   0.0                                                             \n",
       "3                                                   0.0                                                             \n",
       "5                                                   NaN                                                             \n",
       "15                                                  0.0                                                             \n",
       "...                                                 ...                                                             \n",
       "1000                                                0.0                                                             \n",
       "1002                                                NaN                                                             \n",
       "1004                                                NaN                                                             \n",
       "1009                                                0.0                                                             \n",
       "1012                                                0.0                                                             \n",
       "\n",
       "      M9u[SQ010]. Wie ist Ihre Perspektive nach Ablauf Ihres derzeitigen Arbeitsvertrags?  [Mutterschutz bzw. Elternzeit]  \\\n",
       "0                                                   0.0                                                                     \n",
       "1                                                   0.0                                                                     \n",
       "3                                                   0.0                                                                     \n",
       "5                                                   NaN                                                                     \n",
       "15                                                  0.0                                                                     \n",
       "...                                                 ...                                                                     \n",
       "1000                                                0.0                                                                     \n",
       "1002                                                NaN                                                                     \n",
       "1004                                                NaN                                                                     \n",
       "1009                                                1.0                                                                     \n",
       "1012                                                0.0                                                                     \n",
       "\n",
       "      M9u[SQ011]. Wie ist Ihre Perspektive nach Ablauf Ihres derzeitigen Arbeitsvertrags?  [Berufliche Umorientierung ]  \\\n",
       "0                                                   0.0                                                                   \n",
       "1                                                   0.0                                                                   \n",
       "3                                                   0.0                                                                   \n",
       "5                                                   NaN                                                                   \n",
       "15                                                  0.0                                                                   \n",
       "...                                                 ...                                                                   \n",
       "1000                                                0.0                                                                   \n",
       "1002                                                NaN                                                                   \n",
       "1004                                                NaN                                                                   \n",
       "1009                                                0.0                                                                   \n",
       "1012                                                0.0                                                                   \n",
       "\n",
       "      M9u[SQ012]. Wie ist Ihre Perspektive nach Ablauf Ihres derzeitigen Arbeitsvertrags?  [Anspruch auf ALG I ]  \\\n",
       "0                                                   0.0                                                            \n",
       "1                                                   0.0                                                            \n",
       "3                                                   0.0                                                            \n",
       "5                                                   NaN                                                            \n",
       "15                                                  0.0                                                            \n",
       "...                                                 ...                                                            \n",
       "1000                                                0.0                                                            \n",
       "1002                                                NaN                                                            \n",
       "1004                                                NaN                                                            \n",
       "1009                                                0.0                                                            \n",
       "1012                                                1.0                                                            \n",
       "\n",
       "      M9u[SQ013]. Wie ist Ihre Perspektive nach Ablauf Ihres derzeitigen Arbeitsvertrags?  [Antrag auf ALG II (Hartz IV) ]  \\\n",
       "0                                                   0.0                                                                      \n",
       "1                                                   0.0                                                                      \n",
       "3                                                   0.0                                                                      \n",
       "5                                                   NaN                                                                      \n",
       "15                                                  0.0                                                                      \n",
       "...                                                 ...                                                                      \n",
       "1000                                                0.0                                                                      \n",
       "1002                                                NaN                                                                      \n",
       "1004                                                NaN                                                                      \n",
       "1009                                                0.0                                                                      \n",
       "1012                                                0.0                                                                      \n",
       "\n",
       "      id. Antwort ID  \n",
       "0                953  \n",
       "1                 24  \n",
       "3                 65  \n",
       "5                 94  \n",
       "15               203  \n",
       "...              ...  \n",
       "1000             470  \n",
       "1002             510  \n",
       "1004             899  \n",
       "1009            1090  \n",
       "1012            1726  \n",
       "\n",
       "[403 rows x 258 columns]"
      ]
     },
     "execution_count": 124,
     "metadata": {},
     "output_type": "execute_result"
    }
   ],
   "source": [
    "df_museum"
   ]
  },
  {
   "cell_type": "code",
   "execution_count": 125,
   "metadata": {},
   "outputs": [
    {
     "data": {
      "text/plain": [
       "count    399.000000\n",
       "mean       1.799499\n",
       "std        1.639616\n",
       "min        0.000000\n",
       "25%        0.000000\n",
       "50%        2.000000\n",
       "75%        3.000000\n",
       "max       10.000000\n",
       "Name: AP4[SQ001]. Wie viele Male sind Sie für die Wahrnehmung Ihrer Tätigkeit in eine andere Stadt (permanent oder temporär) umgezogen?   [Angabe in Ziffern:], dtype: float64"
      ]
     },
     "execution_count": 125,
     "metadata": {},
     "output_type": "execute_result"
    }
   ],
   "source": [
    "df_museum.describe()['AP4[SQ001]. Wie viele Male sind Sie für die Wahrnehmung Ihrer Tätigkeit in eine andere Stadt (permanent oder temporär) umgezogen?   [Angabe in Ziffern:]']"
   ]
  },
  {
   "cell_type": "code",
   "execution_count": 126,
   "metadata": {},
   "outputs": [
    {
     "data": {
      "text/plain": [
       "2.0"
      ]
     },
     "execution_count": 126,
     "metadata": {},
     "output_type": "execute_result"
    }
   ],
   "source": [
    "df_museum['AP4[SQ001]. Wie viele Male sind Sie für die Wahrnehmung Ihrer Tätigkeit in eine andere Stadt (permanent oder temporär) umgezogen?   [Angabe in Ziffern:]'].median()"
   ]
  },
  {
   "cell_type": "code",
   "execution_count": 127,
   "metadata": {},
   "outputs": [
    {
     "data": {
      "text/plain": [
       "0    0.0\n",
       "Name: AP4[SQ001]. Wie viele Male sind Sie für die Wahrnehmung Ihrer Tätigkeit in eine andere Stadt (permanent oder temporär) umgezogen?   [Angabe in Ziffern:], dtype: float64"
      ]
     },
     "execution_count": 127,
     "metadata": {},
     "output_type": "execute_result"
    }
   ],
   "source": [
    "df_museum['AP4[SQ001]. Wie viele Male sind Sie für die Wahrnehmung Ihrer Tätigkeit in eine andere Stadt (permanent oder temporär) umgezogen?   [Angabe in Ziffern:]'].mode()"
   ]
  },
  {
   "cell_type": "code",
   "execution_count": 128,
   "metadata": {},
   "outputs": [
    {
     "data": {
      "image/png": "[encoded data removed]",
      "text/plain": [
       "<Figure size 640x480 with 1 Axes>"
      ]
     },
     "metadata": {},
     "output_type": "display_data"
    }
   ],
   "source": [
    "ax = df_museum['AP4[SQ001]. Wie viele Male sind Sie für die Wahrnehmung Ihrer Tätigkeit in eine andere Stadt (permanent oder temporär) umgezogen?   [Angabe in Ziffern:]'].plot(kind='hist',\n",
    "                                                                                                                                                                           xlabel = 'Anzahl Umzüge',\n",
    "                                                                                                                                                                           width = 0.9,\n",
    "                                                                                                                                                                           bins=10)"
   ]
  },
  {
   "cell_type": "code",
   "execution_count": 129,
   "metadata": {},
   "outputs": [],
   "source": [
    "fig = ax.get_figure()\n",
    "fig.savefig('../reports/figures/M_06_Anzahl_Umzüge.png', bbox_inches='tight', dpi=300)"
   ]
  },
  {
   "cell_type": "code",
   "execution_count": 130,
   "metadata": {},
   "outputs": [
    {
     "data": {
      "text/html": [
       "<div>\n",
       "<style scoped>\n",
       "    .dataframe tbody tr th:only-of-type {\n",
       "        vertical-align: middle;\n",
       "    }\n",
       "\n",
       "    .dataframe tbody tr th {\n",
       "        vertical-align: top;\n",
       "    }\n",
       "\n",
       "    .dataframe thead th {\n",
       "        text-align: right;\n",
       "    }\n",
       "</style>\n",
       "<table border=\"1\" class=\"dataframe\">\n",
       "  <thead>\n",
       "    <tr style=\"text-align: right;\">\n",
       "      <th></th>\n",
       "      <th>AP5r[SQ001]. Bitte machen Sie folgende Angaben:  [Wie viele Arbeitsverträge hatten Sie insgesamt in Ihrem bisherigen beruflichen Leben inne? (in Ziffern)?]</th>\n",
       "      <th>AP5r[SQ002]. Bitte machen Sie folgende Angaben:  [In wie vielen Berufsjahren insgesamt (Jahre in Ziffern)? ]</th>\n",
       "    </tr>\n",
       "  </thead>\n",
       "  <tbody>\n",
       "    <tr>\n",
       "      <th>count</th>\n",
       "      <td>365.000000</td>\n",
       "      <td>362.000000</td>\n",
       "    </tr>\n",
       "    <tr>\n",
       "      <th>mean</th>\n",
       "      <td>5.084932</td>\n",
       "      <td>10.906077</td>\n",
       "    </tr>\n",
       "    <tr>\n",
       "      <th>std</th>\n",
       "      <td>4.392291</td>\n",
       "      <td>8.434415</td>\n",
       "    </tr>\n",
       "    <tr>\n",
       "      <th>min</th>\n",
       "      <td>0.000000</td>\n",
       "      <td>0.000000</td>\n",
       "    </tr>\n",
       "    <tr>\n",
       "      <th>25%</th>\n",
       "      <td>2.000000</td>\n",
       "      <td>5.000000</td>\n",
       "    </tr>\n",
       "    <tr>\n",
       "      <th>50%</th>\n",
       "      <td>4.000000</td>\n",
       "      <td>9.000000</td>\n",
       "    </tr>\n",
       "    <tr>\n",
       "      <th>75%</th>\n",
       "      <td>6.000000</td>\n",
       "      <td>15.000000</td>\n",
       "    </tr>\n",
       "    <tr>\n",
       "      <th>max</th>\n",
       "      <td>35.000000</td>\n",
       "      <td>53.000000</td>\n",
       "    </tr>\n",
       "  </tbody>\n",
       "</table>\n",
       "</div>"
      ],
      "text/plain": [
       "       AP5r[SQ001]. Bitte machen Sie folgende Angaben:  [Wie viele Arbeitsverträge hatten Sie insgesamt in Ihrem bisherigen beruflichen Leben inne? (in Ziffern)?]  \\\n",
       "count                                         365.000000                                                                                                             \n",
       "mean                                            5.084932                                                                                                             \n",
       "std                                             4.392291                                                                                                             \n",
       "min                                             0.000000                                                                                                             \n",
       "25%                                             2.000000                                                                                                             \n",
       "50%                                             4.000000                                                                                                             \n",
       "75%                                             6.000000                                                                                                             \n",
       "max                                            35.000000                                                                                                             \n",
       "\n",
       "       AP5r[SQ002]. Bitte machen Sie folgende Angaben:  [In wie vielen Berufsjahren insgesamt (Jahre in Ziffern)? ]  \n",
       "count                                         362.000000                                                             \n",
       "mean                                           10.906077                                                             \n",
       "std                                             8.434415                                                             \n",
       "min                                             0.000000                                                             \n",
       "25%                                             5.000000                                                             \n",
       "50%                                             9.000000                                                             \n",
       "75%                                            15.000000                                                             \n",
       "max                                            53.000000                                                             "
      ]
     },
     "execution_count": 130,
     "metadata": {},
     "output_type": "execute_result"
    }
   ],
   "source": [
    "df_museum.describe()[['AP5r[SQ001]. Bitte machen Sie folgende Angaben:\\xa0 [Wie viele Arbeitsverträge hatten Sie insgesamt in Ihrem bisherigen beruflichen Leben inne? (in Ziffern)?]', 'AP5r[SQ002]. Bitte machen Sie folgende Angaben:\\xa0 [In wie vielen Berufsjahren insgesamt (Jahre in Ziffern)? ]']]"
   ]
  },
  {
   "cell_type": "code",
   "execution_count": 131,
   "metadata": {},
   "outputs": [
    {
     "name": "stdout",
     "output_type": "stream",
     "text": [
      "4.0\n",
      "9.0\n"
     ]
    }
   ],
   "source": [
    "print(df_museum['AP5r[SQ001]. Bitte machen Sie folgende Angaben:\\xa0 [Wie viele Arbeitsverträge hatten Sie insgesamt in Ihrem bisherigen beruflichen Leben inne? (in Ziffern)?]'].median())\n",
    "print(df_museum['AP5r[SQ002]. Bitte machen Sie folgende Angaben:\\xa0 [In wie vielen Berufsjahren insgesamt (Jahre in Ziffern)? ]'].median())"
   ]
  },
  {
   "cell_type": "code",
   "execution_count": 132,
   "metadata": {},
   "outputs": [
    {
     "name": "stdout",
     "output_type": "stream",
     "text": [
      "0    2.0\n",
      "Name: AP5r[SQ001]. Bitte machen Sie folgende Angaben:  [Wie viele Arbeitsverträge hatten Sie insgesamt in Ihrem bisherigen beruflichen Leben inne? (in Ziffern)?], dtype: float64\n",
      "0    10.0\n",
      "Name: AP5r[SQ002]. Bitte machen Sie folgende Angaben:  [In wie vielen Berufsjahren insgesamt (Jahre in Ziffern)? ], dtype: float64\n"
     ]
    }
   ],
   "source": [
    "print(df_museum['AP5r[SQ001]. Bitte machen Sie folgende Angaben:\\xa0 [Wie viele Arbeitsverträge hatten Sie insgesamt in Ihrem bisherigen beruflichen Leben inne? (in Ziffern)?]'].mode())\n",
    "print(df_museum['AP5r[SQ002]. Bitte machen Sie folgende Angaben:\\xa0 [In wie vielen Berufsjahren insgesamt (Jahre in Ziffern)? ]'].mode())"
   ]
  },
  {
   "cell_type": "code",
   "execution_count": 133,
   "metadata": {},
   "outputs": [
    {
     "data": {
      "image/png": "[encoded data removed]",
      "text/plain": [
       "<Figure size 640x480 with 1 Axes>"
      ]
     },
     "metadata": {},
     "output_type": "display_data"
    }
   ],
   "source": [
    "ax = df_museum['AP5r[SQ001]. Bitte machen Sie folgende Angaben:\\xa0 [Wie viele Arbeitsverträge hatten Sie insgesamt in Ihrem bisherigen beruflichen Leben inne? (in Ziffern)?]'].plot(kind='hist', \n",
    "                                                                                                                                                                                 xlabel='Anzahl Verträge',\n",
    "                                                                                                                                                                                 width=1.5,\n",
    "                                                                                                                                                                                 bins=20)"
   ]
  },
  {
   "cell_type": "code",
   "execution_count": 134,
   "metadata": {},
   "outputs": [],
   "source": [
    "fig = ax.get_figure()\n",
    "fig.savefig('../reports/figures/M_07_Anzahl_Verträge.png', bbox_inches='tight', dpi=300)"
   ]
  },
  {
   "cell_type": "code",
   "execution_count": 135,
   "metadata": {},
   "outputs": [
    {
     "data": {
      "text/plain": [
       "<Axes: xlabel='Berufsjahre', ylabel='Frequency'>"
      ]
     },
     "execution_count": 135,
     "metadata": {},
     "output_type": "execute_result"
    },
    {
     "data": {
      "image/png": "[encoded data removed]",
      "text/plain": [
       "<Figure size 640x480 with 1 Axes>"
      ]
     },
     "metadata": {},
     "output_type": "display_data"
    }
   ],
   "source": [
    "df_museum['AP5r[SQ002]. Bitte machen Sie folgende Angaben:\\xa0 [In wie vielen Berufsjahren insgesamt (Jahre in Ziffern)? ]'].plot(kind='hist', \n",
    "                                                                                                                                    xlabel='Berufsjahre',\n",
    "                                                                                                                                    width=2,\n",
    "                                                                                                                                    bins=20)"
   ]
  },
  {
   "cell_type": "code",
   "execution_count": 136,
   "metadata": {},
   "outputs": [],
   "source": [
    "fig = ax.get_figure()\n",
    "fig.savefig('../reports/figures/M_08_Berufsjahre.png', bbox_inches='tight', dpi=300)"
   ]
  },
  {
   "cell_type": "code",
   "execution_count": 137,
   "metadata": {},
   "outputs": [
    {
     "name": "stdout",
     "output_type": "stream",
     "text": [
      "2.981417556471736\n",
      "2.0\n",
      "0    2.0\n",
      "dtype: float64\n"
     ]
    }
   ],
   "source": [
    "years_per_contract = df_museum['AP5r[SQ002]. Bitte machen Sie folgende Angaben:\\xa0 [In wie vielen Berufsjahren insgesamt (Jahre in Ziffern)? ]'] / df_museum['AP5r[SQ001]. Bitte machen Sie folgende Angaben:\\xa0 [Wie viele Arbeitsverträge hatten Sie insgesamt in Ihrem bisherigen beruflichen Leben inne? (in Ziffern)?]']\n",
    "print(years_per_contract.mean())\n",
    "print(years_per_contract.median())\n",
    "print(years_per_contract.mode())"
   ]
  },
  {
   "cell_type": "code",
   "execution_count": 138,
   "metadata": {},
   "outputs": [
    {
     "data": {
      "text/plain": [
       "<Axes: xlabel='Berufsjahre pro Vertrag', ylabel='Frequency'>"
      ]
     },
     "execution_count": 138,
     "metadata": {},
     "output_type": "execute_result"
    },
    {
     "data": {
      "image/png": "[encoded data removed]",
      "text/plain": [
       "<Figure size 640x480 with 1 Axes>"
      ]
     },
     "metadata": {},
     "output_type": "display_data"
    }
   ],
   "source": [
    "years_per_contract.plot(kind='hist',\n",
    "                        xlabel='Berufsjahre pro Vertrag',\n",
    "                        width = 0.5,\n",
    "                        bins=50)"
   ]
  },
  {
   "cell_type": "code",
   "execution_count": 139,
   "metadata": {},
   "outputs": [],
   "source": [
    "fig = ax.get_figure()\n",
    "fig.savefig('../reports/figures/M_09_Berufsjahre_pro_Vertrag.png', bbox_inches='tight', dpi=300)"
   ]
  },
  {
   "cell_type": "code",
   "execution_count": 140,
   "metadata": {},
   "outputs": [
    {
     "data": {
      "text/html": [
       "<div>\n",
       "<style scoped>\n",
       "    .dataframe tbody tr th:only-of-type {\n",
       "        vertical-align: middle;\n",
       "    }\n",
       "\n",
       "    .dataframe tbody tr th {\n",
       "        vertical-align: top;\n",
       "    }\n",
       "\n",
       "    .dataframe thead th {\n",
       "        text-align: right;\n",
       "    }\n",
       "</style>\n",
       "<table border=\"1\" class=\"dataframe\">\n",
       "  <thead>\n",
       "    <tr style=\"text-align: right;\">\n",
       "      <th></th>\n",
       "      <th>AP11[SQ001]. Wie viele Stunden arbeiten Sie aktuell im Durchschnitt pro Woche?  [In Ziffern:]</th>\n",
       "      <th>AP11r[SQ001]. Wie viele Stunden davon bezahlt?   [In Ziffern:]</th>\n",
       "    </tr>\n",
       "  </thead>\n",
       "  <tbody>\n",
       "    <tr>\n",
       "      <th>count</th>\n",
       "      <td>392.000000</td>\n",
       "      <td>389.000000</td>\n",
       "    </tr>\n",
       "    <tr>\n",
       "      <th>mean</th>\n",
       "      <td>39.046224</td>\n",
       "      <td>34.734370</td>\n",
       "    </tr>\n",
       "    <tr>\n",
       "      <th>std</th>\n",
       "      <td>9.843820</td>\n",
       "      <td>8.823005</td>\n",
       "    </tr>\n",
       "    <tr>\n",
       "      <th>min</th>\n",
       "      <td>0.000000</td>\n",
       "      <td>0.000000</td>\n",
       "    </tr>\n",
       "    <tr>\n",
       "      <th>25%</th>\n",
       "      <td>35.000000</td>\n",
       "      <td>30.000000</td>\n",
       "    </tr>\n",
       "    <tr>\n",
       "      <th>50%</th>\n",
       "      <td>40.000000</td>\n",
       "      <td>39.000000</td>\n",
       "    </tr>\n",
       "    <tr>\n",
       "      <th>75%</th>\n",
       "      <td>45.000000</td>\n",
       "      <td>40.000000</td>\n",
       "    </tr>\n",
       "    <tr>\n",
       "      <th>max</th>\n",
       "      <td>65.000000</td>\n",
       "      <td>60.000000</td>\n",
       "    </tr>\n",
       "  </tbody>\n",
       "</table>\n",
       "</div>"
      ],
      "text/plain": [
       "       AP11[SQ001]. Wie viele Stunden arbeiten Sie aktuell im Durchschnitt pro Woche?  [In Ziffern:]  \\\n",
       "count                                         392.000000                                               \n",
       "mean                                           39.046224                                               \n",
       "std                                             9.843820                                               \n",
       "min                                             0.000000                                               \n",
       "25%                                            35.000000                                               \n",
       "50%                                            40.000000                                               \n",
       "75%                                            45.000000                                               \n",
       "max                                            65.000000                                               \n",
       "\n",
       "       AP11r[SQ001]. Wie viele Stunden davon bezahlt?   [In Ziffern:]  \n",
       "count                                         389.000000               \n",
       "mean                                           34.734370               \n",
       "std                                             8.823005               \n",
       "min                                             0.000000               \n",
       "25%                                            30.000000               \n",
       "50%                                            39.000000               \n",
       "75%                                            40.000000               \n",
       "max                                            60.000000               "
      ]
     },
     "execution_count": 140,
     "metadata": {},
     "output_type": "execute_result"
    }
   ],
   "source": [
    "df_museum.describe()[['AP11[SQ001]. Wie viele Stunden arbeiten Sie aktuell im Durchschnitt pro Woche?\\xa0 [In Ziffern:]', 'AP11r[SQ001]. Wie viele Stunden davon bezahlt?\\xa0\\xa0 [In Ziffern:]']]"
   ]
  },
  {
   "cell_type": "code",
   "execution_count": 141,
   "metadata": {},
   "outputs": [
    {
     "name": "stdout",
     "output_type": "stream",
     "text": [
      "40.0\n",
      "39.0\n"
     ]
    }
   ],
   "source": [
    "print(df_museum['AP11[SQ001]. Wie viele Stunden arbeiten Sie aktuell im Durchschnitt pro Woche?\\xa0 [In Ziffern:]'].median())\n",
    "print(df_museum['AP11r[SQ001]. Wie viele Stunden davon bezahlt?\\xa0\\xa0 [In Ziffern:]'].median())"
   ]
  },
  {
   "cell_type": "code",
   "execution_count": 142,
   "metadata": {},
   "outputs": [
    {
     "name": "stdout",
     "output_type": "stream",
     "text": [
      "0    40.0\n",
      "Name: AP11[SQ001]. Wie viele Stunden arbeiten Sie aktuell im Durchschnitt pro Woche?  [In Ziffern:], dtype: float64\n",
      "0    40.0\n",
      "Name: AP11r[SQ001]. Wie viele Stunden davon bezahlt?   [In Ziffern:], dtype: float64\n"
     ]
    }
   ],
   "source": [
    "print(df_museum['AP11[SQ001]. Wie viele Stunden arbeiten Sie aktuell im Durchschnitt pro Woche?\\xa0 [In Ziffern:]'].mode())\n",
    "print(df_museum['AP11r[SQ001]. Wie viele Stunden davon bezahlt?\\xa0\\xa0 [In Ziffern:]'].mode())"
   ]
  },
  {
   "cell_type": "code",
   "execution_count": 143,
   "metadata": {},
   "outputs": [
    {
     "data": {
      "text/plain": [
       "<Axes: xlabel='Arbeitsstunden pro Woche', ylabel='Frequency'>"
      ]
     },
     "execution_count": 143,
     "metadata": {},
     "output_type": "execute_result"
    },
    {
     "data": {
      "image/png": "[encoded data removed]",
      "text/plain": [
       "<Figure size 640x480 with 1 Axes>"
      ]
     },
     "metadata": {},
     "output_type": "display_data"
    }
   ],
   "source": [
    "df_museum['AP11[SQ001]. Wie viele Stunden arbeiten Sie aktuell im Durchschnitt pro Woche?\\xa0 [In Ziffern:]'].plot(kind='hist',\n",
    "                                                                                                                   xlabel='Arbeitsstunden pro Woche',\n",
    "                                                                                                                   width=3,\n",
    "                                                                                                                   bins=20)"
   ]
  },
  {
   "cell_type": "code",
   "execution_count": 144,
   "metadata": {},
   "outputs": [],
   "source": [
    "fig = ax.get_figure()\n",
    "fig.savefig('../reports/figures/M_10_Arbeitsstunden.png', bbox_inches='tight', dpi=300)"
   ]
  },
  {
   "cell_type": "code",
   "execution_count": 145,
   "metadata": {},
   "outputs": [
    {
     "data": {
      "text/plain": [
       "<Axes: xlabel='bezahlte Arbeitsstunden pro Woche', ylabel='Frequency'>"
      ]
     },
     "execution_count": 145,
     "metadata": {},
     "output_type": "execute_result"
    },
    {
     "data": {
      "image/png": "[encoded data removed]",
      "text/plain": [
       "<Figure size 640x480 with 1 Axes>"
      ]
     },
     "metadata": {},
     "output_type": "display_data"
    }
   ],
   "source": [
    "df_museum['AP11r[SQ001]. Wie viele Stunden davon bezahlt?\\xa0\\xa0 [In Ziffern:]'].plot(kind='hist',\n",
    "                                                                                        xlabel='bezahlte Arbeitsstunden pro Woche',\n",
    "                                                                                        width=2.8,\n",
    "                                                                                        bins=20)"
   ]
  },
  {
   "cell_type": "code",
   "execution_count": 146,
   "metadata": {},
   "outputs": [],
   "source": [
    "fig = ax.get_figure()\n",
    "fig.savefig('../reports/figures/M_11_bezahlte_Arbeitsstunden.png', bbox_inches='tight', dpi=300)"
   ]
  },
  {
   "cell_type": "code",
   "execution_count": 147,
   "metadata": {},
   "outputs": [],
   "source": [
    "ratio_paid_hours = (df_museum['AP11r[SQ001]. Wie viele Stunden davon bezahlt?\\xa0\\xa0 [In Ziffern:]'] / df_museum['AP11[SQ001]. Wie viele Stunden arbeiten Sie aktuell im Durchschnitt pro Woche?\\xa0 [In Ziffern:]'])*100"
   ]
  },
  {
   "cell_type": "code",
   "execution_count": 148,
   "metadata": {},
   "outputs": [
    {
     "name": "stdout",
     "output_type": "stream",
     "text": [
      "89.42818225688818\n",
      "100.0\n",
      "0    100.0\n",
      "dtype: float64\n"
     ]
    }
   ],
   "source": [
    "print(ratio_paid_hours.mean())\n",
    "print(ratio_paid_hours.median())\n",
    "print(ratio_paid_hours.mode())"
   ]
  },
  {
   "cell_type": "code",
   "execution_count": 149,
   "metadata": {},
   "outputs": [
    {
     "data": {
      "text/plain": [
       "<Axes: xlabel='Anteil bezahlter Arbeitsstunden in Prozent', ylabel='Frequency'>"
      ]
     },
     "execution_count": 149,
     "metadata": {},
     "output_type": "execute_result"
    },
    {
     "data": {
      "image/png": "[encoded data removed]",
      "text/plain": [
       "<Figure size 640x480 with 1 Axes>"
      ]
     },
     "metadata": {},
     "output_type": "display_data"
    }
   ],
   "source": [
    "ratio_paid_hours.plot(kind='hist',\n",
    "                      xlabel='Anteil bezahlter Arbeitsstunden in Prozent',\n",
    "                      bins=20,\n",
    "                      width=5)"
   ]
  },
  {
   "cell_type": "code",
   "execution_count": 150,
   "metadata": {},
   "outputs": [],
   "source": [
    "fig = ax.get_figure()\n",
    "fig.savefig('../reports/figures/M_12_Anteil_bezahlter_Arbeitsstunden.png', bbox_inches='tight', dpi=300)"
   ]
  }
 ],
 "metadata": {
  "kernelspec": {
   "display_name": "Ulmer_Verein",
   "language": "python",
   "name": "python3"
  },
  "language_info": {
   "codemirror_mode": {
    "name": "ipython",
    "version": 3
   },
   "file_extension": ".py",
   "mimetype": "text/x-python",
   "name": "python",
   "nbconvert_exporter": "python",
   "pygments_lexer": "ipython3",
   "version": "3.12.1"
  }
 },
 "nbformat": 4,
 "nbformat_minor": 2
}
