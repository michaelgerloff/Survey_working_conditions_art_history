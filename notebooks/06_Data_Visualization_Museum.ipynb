{
 "cells": [
  {
   "cell_type": "code",
   "execution_count": 49,
   "metadata": {},
   "outputs": [],
   "source": [
    "import pandas as pd\n",
    "import numpy as np"
   ]
  },
  {
   "cell_type": "code",
   "execution_count": 2,
   "metadata": {},
   "outputs": [],
   "source": [
    "def cross_analysis_one_hot(cols_first:list, cols_second:list, df):\n",
    "    \n",
    "    \"\"\"\n",
    "    Perform cross analysis between two sets of one-hot encoded columns.\n",
    "\n",
    "    This function calculates the sum and percentage of occurrences for each combination\n",
    "    of values in two lists of columns within a given DataFrame. It's particularly useful\n",
    "    for analyzing the relationship between two one-hot encoded questions by generating\n",
    "    a new DataFrame that summarizes these relationships.\n",
    "\n",
    "    Parameters:\n",
    "    - cols_first (list of str): Column names to be used as the index of the new DataFrame.\n",
    "        These columns should be one-hot encoded and represent the first question/set of options.\n",
    "    - cols_second (list of str): Column names to be used as columns of the new DataFrame.\n",
    "        These columns should be one-hot encoded and represent the second question/set of options.\n",
    "    - df (pd.DataFrame, optional): The DataFrame containing the columns specified in\n",
    "        `cols_first` and `cols_second`. Defaults to `df_whole` if not specified.\n",
    "\n",
    "    Returns:\n",
    "    - pd.DataFrame: A DataFrame with index as `cols_first` and columns as `cols_second`,\n",
    "        containing sum and percentage values for each index-column combination.\n",
    "    - list: A list of the names of the percentage columns in the returned DataFrame,\n",
    "        which can be used for further analysis or visualization.\n",
    "\n",
    "    Example:\n",
    "    >>> cols_first = ['Question1_OptionA', 'Question1_OptionB']\n",
    "    >>> cols_second = ['Question2_OptionA', 'Question2_OptionB']\n",
    "    >>> analysis_df, percentage_cols = cross_analysis_one_hot(cols_first, cols_second, df=my_dataframe)\n",
    "    This will return a DataFrame with the cross analysis of specified options and\n",
    "    a list of column names representing the percentage values.\n",
    "    \"\"\"\n",
    "    \n",
    "    # initialize empty DataFrame\n",
    "    aggregated_df = pd.DataFrame(index=cols_first, columns=cols_second).fillna(0)\n",
    "\n",
    "    for level_index in cols_first:\n",
    "        for level_cols in cols_second:\n",
    "            # Sum the age counts for the current career path\n",
    "            aggregated_df.loc[level_index, level_cols] = df[df[level_index] == True][level_cols].sum()\n",
    "        \n",
    "    # rename indices and column names\n",
    "    aggregated_df.columns = cols_second\n",
    "\n",
    "    #aggregated_df.index = career\n",
    "    aggregated_df['totals'] = aggregated_df.sum(axis=1)\n",
    "    \n",
    "    ls_perc_columns = []\n",
    "    for col in aggregated_df.loc[:, aggregated_df.columns != 'totals'].columns:\n",
    "        percentage_column_name = f'{col}Percentage'\n",
    "        ls_perc_columns.append(percentage_column_name)\n",
    "        aggregated_df[percentage_column_name] = np.divide(aggregated_df[col], aggregated_df['totals'].replace(0, np.nan)) * 100\n",
    "        \n",
    "    \n",
    "    \n",
    "    return aggregated_df, ls_perc_columns"
   ]
  },
  {
   "cell_type": "code",
   "execution_count": 3,
   "metadata": {},
   "outputs": [],
   "source": [
    "def cross_analysis_non_one_hot(col_name:str, oh_cols:list, df, transpose=False):\n",
    "    \n",
    "    \"\"\"\n",
    "    Performs aggregation and analysis on a dataset based on a specified non-one-hot-encoded column \n",
    "    against multiple one-hot-encoded columns. It calculates the sum and percentage of True values \n",
    "    for each one-hot-encoded column grouped by the unique values in the non-one-hot-encoded column.\n",
    "\n",
    "    Parameters:\n",
    "    - col_name (str): The name of the non-one-hot-encoded column to group the data by.\n",
    "    - oh_cols (list of str): A list containing the names of the one-hot-encoded columns to be analyzed.\n",
    "    - df (pd.DataFrame, optional): The DataFrame to perform the analysis on. Defaults to `df_whole`.\n",
    "    - transpose (bool, optional): If set to True, the resulting DataFrame is transposed, \n",
    "      making the aggregated categories the columns instead of the rows. Defaults to False.\n",
    "\n",
    "    Returns:\n",
    "    - pd.DataFrame: A DataFrame with aggregated sum and percentage values for each category \n",
    "      in the non-one-hot-encoded column. If `transpose` is True, the DataFrame is transposed.\n",
    "    - list: A list of the names of the percentage columns in the returned DataFrame, \n",
    "      which can be used for further analysis or visualization.\n",
    "\n",
    "    The resulting DataFrame includes a 'totals' column that sums the occurrences for all \n",
    "    one-hot-encoded columns, and additional columns representing the percentage of each \n",
    "    one-hot-encoded column's True values relative to the 'totals'.\n",
    "\n",
    "    Example:\n",
    "    >>> col_name = 'Department'\n",
    "    >>> oh_cols = ['ProjectCompleted', 'ProjectInProgress']\n",
    "    >>> aggregated_df, percentage_cols = cross_analysis_non_one_hot(col_name, oh_cols, df=my_dataframe)\n",
    "    >>> print(aggregated_df)\n",
    "    \n",
    "    This example would group `my_dataframe` by 'Department', aggregating data for 'ProjectCompleted' \n",
    "    and 'ProjectInProgress', and calculating the percentage of each within departments.\n",
    "    \"\"\"\n",
    "    \n",
    "    \n",
    "    # Initialize aggregation dictionary\n",
    "    agg_dict = {col: pd.NamedAgg(column=col, aggfunc='sum') for col in oh_cols}\n",
    "    \n",
    "    # Aggregate the data\n",
    "    df_aggregated = df.groupby(col_name).agg(**agg_dict).reset_index()\n",
    "    \n",
    "    if not transpose:\n",
    "        # Calculate totals\n",
    "        df_aggregated['totals'] = df_aggregated[oh_cols].sum(axis=1)\n",
    "\n",
    "        # Calculate percentages for each one-hot-encoded column\n",
    "        ls_perc_columns = []\n",
    "        for col in oh_cols:\n",
    "            percentage_col = f'{col}Perc'\n",
    "            ls_perc_columns.append(percentage_col)\n",
    "            # Use numpy to handle division by zero\n",
    "            df_aggregated[percentage_col] = np.divide(df_aggregated[col], df_aggregated['totals'].replace(0, np.nan)) * 100\n",
    "            df_aggregated[percentage_col].fillna(0, inplace=True)  # Handle NaNs from division by zero\n",
    "    else: \n",
    "        df_aggregated = df_aggregated.T\n",
    "        df_aggregated.columns = [f\"{df_aggregated.index[0]}_{df_aggregated.iloc[0, i]}_sum\" for i in range(len(df_aggregated.columns))]\n",
    "        df_aggregated.drop(index=df_aggregated.index[0], inplace=True)\n",
    "        df_aggregated['totals'] = df_aggregated.sum(axis=1)\n",
    "        \n",
    "        ls_perc_columns = []\n",
    "        for col in df_aggregated.columns[:-1]:  # Exclude 'totals' from the percentage calculation\n",
    "            percentage_col = f'{col}Perc'\n",
    "            ls_perc_columns.append(percentage_col)\n",
    "            # Use numpy to handle division by zero\n",
    "            df_aggregated[percentage_col] = np.divide(df_aggregated[col], df_aggregated['totals'].replace(0, np.nan)) * 100\n",
    "            df_aggregated[percentage_col].fillna(0, inplace=True)  # Handle NaNs from division by zero\n",
    "\n",
    "    return df_aggregated, ls_perc_columns"
   ]
  },
  {
   "cell_type": "code",
   "execution_count": 4,
   "metadata": {},
   "outputs": [],
   "source": [
    "def inversed_legend(ax, ls_categories_legend):\n",
    "    \n",
    "    \"\"\"\n",
    "    Updates the plot's legend to reflect the inverse order of categories, aligning the legend order with the visual stacking order in a bar plot.\n",
    "\n",
    "    This function is designed to work with matplotlib plots where the visual stacking order of elements is opposite to the desired legend order. It reverses the legend's label and handle order to match the plot's visual representation, ensuring that the legend accurately reflects the stacking order.\n",
    "\n",
    "    Parameters:\n",
    "    - ls_categories_legend (list of str): A list containing the labels for the legend in the desired order. This list will be reversed internally to match the visual stacking order in the plot.\n",
    "\n",
    "    Notes:\n",
    "    - The function assumes that the matplotlib Axes object `ax` is defined in the global scope or accessible in the calling context.\n",
    "    - The legend's location is set to 'center left' with a bbox_to_anchor at (1, 0.75), which places the legend outside the plot area. Adjust these parameters as necessary to fit the plot layout.\n",
    "\n",
    "    Example usage:\n",
    "    ```python\n",
    "    # Assuming a matplotlib plot has been created and `ax` is the current Axes object\n",
    "    ls_categories_legend = ['Category 1', 'Category 2', 'Category 3']\n",
    "    inversed_legend(ls_categories_legend)\n",
    "    ```\n",
    "\n",
    "    This function will reverse both the handles and labels of the legend to match the plot's visual stacking order, starting with 'Category 3' at the top and ending with 'Category 1' at the bottom.\n",
    "    \"\"\"\n",
    "\n",
    "    # Reverse the order of labels to match the visual stacking order in the plot\n",
    "    reversed_labels = ls_categories_legend[::-1]\n",
    "\n",
    "    # Get the current handles from the plot\n",
    "    handles, _ = ax.get_legend_handles_labels()\n",
    "\n",
    "    # Reverse the order of handles to match the reversed order of labels\n",
    "    reversed_handles = handles[::-1]\n",
    "\n",
    "    # Set the new legend with reversed handles and labels\n",
    "    ax.legend(reversed_handles, reversed_labels, loc='center left', bbox_to_anchor=(1, 0.75))"
   ]
  },
  {
   "cell_type": "code",
   "execution_count": 57,
   "metadata": {},
   "outputs": [],
   "source": [
    "def stacked_bar_graph(df, cols_perc, title_name, ls_x_ticks:list, str_x_label:str, ls_legend_levels, dir_to_save, data_name, **kwargs):\n",
    "    \n",
    "    figsize = kwargs.get('figsize', (8, 6))\n",
    "    rotation = kwargs.get('rotation', 45)\n",
    "    \n",
    "    ax = df[cols_perc].plot(kind='bar', \n",
    "                            stacked=True,\n",
    "                            figsize=figsize, \n",
    "                            #figsize=(8, 6),                                                                                        \n",
    "                            xlabel=str_x_label,\n",
    "                            width=0.9,\n",
    "                            title=title_name\n",
    "                                    )\n",
    "    \n",
    "    ax.set_ylabel('Prozent')\n",
    "\n",
    "    # add percentage labels into the bars\n",
    "    for c in ax.containers:\n",
    "        # Optional: if the segment is small or 0, customize the labels\n",
    "        labels = [v.get_height() if v.get_height() > 0 else '' for v in c]\n",
    "        # remove the labels parameter if it's not needed for customized labels\n",
    "        ax.bar_label(c, fmt=lambda x: f'{x:.1f}' if x > 0 else '', label_type='center')\n",
    "        \n",
    "    ax.set_xticklabels(ls_x_ticks, rotation=rotation, ha='right', rotation_mode='anchor')\n",
    "\n",
    "    inversed_legend(ax, ls_legend_levels)\n",
    "        \n",
    "    #add total values of entries above bar\n",
    "    y_offset = 4\n",
    "    for i, total in enumerate(df['totals']):\n",
    "        ax.text(df['totals'].reset_index().index[i], y= 101, s = int(total), ha='center',\n",
    "        weight='bold')\n",
    "\n",
    "    ax.text(1.02, 0.985, 'Gesamtzahl', transform=ax.transAxes, fontsize=10, verticalalignment='top', weight='bold')\n",
    "    \n",
    "    fig = ax.get_figure()\n",
    "    fig.savefig(f'{dir_to_save}{data_name}', bbox_inches='tight', dpi=300)"
   ]
  },
  {
   "cell_type": "code",
   "execution_count": 6,
   "metadata": {},
   "outputs": [
    {
     "data": {
      "text/html": [
       "<div>\n",
       "<style scoped>\n",
       "    .dataframe tbody tr th:only-of-type {\n",
       "        vertical-align: middle;\n",
       "    }\n",
       "\n",
       "    .dataframe tbody tr th {\n",
       "        vertical-align: top;\n",
       "    }\n",
       "\n",
       "    .dataframe thead th {\n",
       "        text-align: right;\n",
       "    }\n",
       "</style>\n",
       "<table border=\"1\" class=\"dataframe\">\n",
       "  <thead>\n",
       "    <tr style=\"text-align: right;\">\n",
       "      <th></th>\n",
       "      <th>Unnamed: 0</th>\n",
       "      <th>AP1. Wie alt sind Sie?</th>\n",
       "      <th>AP1. Wie alt sind Sie?_0.0</th>\n",
       "      <th>AP1. Wie alt sind Sie?_1.0</th>\n",
       "      <th>AP1. Wie alt sind Sie?_10.0</th>\n",
       "      <th>AP1. Wie alt sind Sie?_2.0</th>\n",
       "      <th>AP1. Wie alt sind Sie?_3.0</th>\n",
       "      <th>AP1. Wie alt sind Sie?_4.0</th>\n",
       "      <th>AP1. Wie alt sind Sie?_5.0</th>\n",
       "      <th>AP1. Wie alt sind Sie?_6.0</th>\n",
       "      <th>...</th>\n",
       "      <th>M9u[SQ005]. Wie ist Ihre Perspektive nach Ablauf Ihres derzeitigen Arbeitsvertrags?  [Unbefristete Stelle an einer anderen Institution ]</th>\n",
       "      <th>M9u[SQ006]. Wie ist Ihre Perspektive nach Ablauf Ihres derzeitigen Arbeitsvertrags?  [Befristete Stelle bzw. Projekt an einer anderen Institution]</th>\n",
       "      <th>M9u[SQ007]. Wie ist Ihre Perspektive nach Ablauf Ihres derzeitigen Arbeitsvertrags?  [Antrags- bzw. Bewerbungsphase]</th>\n",
       "      <th>M9u[SQ008]. Wie ist Ihre Perspektive nach Ablauf Ihres derzeitigen Arbeitsvertrags?  [Hoffnung auf eine Stelle oder ein Anschlussprojekt]</th>\n",
       "      <th>M9u[SQ009]. Wie ist Ihre Perspektive nach Ablauf Ihres derzeitigen Arbeitsvertrags?  [Weiterqualifikation ]</th>\n",
       "      <th>M9u[SQ010]. Wie ist Ihre Perspektive nach Ablauf Ihres derzeitigen Arbeitsvertrags?  [Mutterschutz bzw. Elternzeit]</th>\n",
       "      <th>M9u[SQ011]. Wie ist Ihre Perspektive nach Ablauf Ihres derzeitigen Arbeitsvertrags?  [Berufliche Umorientierung ]</th>\n",
       "      <th>M9u[SQ012]. Wie ist Ihre Perspektive nach Ablauf Ihres derzeitigen Arbeitsvertrags?  [Anspruch auf ALG I ]</th>\n",
       "      <th>M9u[SQ013]. Wie ist Ihre Perspektive nach Ablauf Ihres derzeitigen Arbeitsvertrags?  [Antrag auf ALG II (Hartz IV) ]</th>\n",
       "      <th>id. Antwort ID</th>\n",
       "    </tr>\n",
       "  </thead>\n",
       "  <tbody>\n",
       "    <tr>\n",
       "      <th>0</th>\n",
       "      <td>0</td>\n",
       "      <td>2.0</td>\n",
       "      <td>False</td>\n",
       "      <td>False</td>\n",
       "      <td>False</td>\n",
       "      <td>True</td>\n",
       "      <td>False</td>\n",
       "      <td>False</td>\n",
       "      <td>False</td>\n",
       "      <td>False</td>\n",
       "      <td>...</td>\n",
       "      <td>0.0</td>\n",
       "      <td>0.0</td>\n",
       "      <td>0.0</td>\n",
       "      <td>0.0</td>\n",
       "      <td>0.0</td>\n",
       "      <td>0.0</td>\n",
       "      <td>0.0</td>\n",
       "      <td>0.0</td>\n",
       "      <td>0.0</td>\n",
       "      <td>953</td>\n",
       "    </tr>\n",
       "    <tr>\n",
       "      <th>1</th>\n",
       "      <td>1</td>\n",
       "      <td>2.0</td>\n",
       "      <td>False</td>\n",
       "      <td>False</td>\n",
       "      <td>False</td>\n",
       "      <td>True</td>\n",
       "      <td>False</td>\n",
       "      <td>False</td>\n",
       "      <td>False</td>\n",
       "      <td>False</td>\n",
       "      <td>...</td>\n",
       "      <td>0.0</td>\n",
       "      <td>0.0</td>\n",
       "      <td>0.0</td>\n",
       "      <td>0.0</td>\n",
       "      <td>0.0</td>\n",
       "      <td>0.0</td>\n",
       "      <td>0.0</td>\n",
       "      <td>0.0</td>\n",
       "      <td>0.0</td>\n",
       "      <td>24</td>\n",
       "    </tr>\n",
       "    <tr>\n",
       "      <th>2</th>\n",
       "      <td>3</td>\n",
       "      <td>2.0</td>\n",
       "      <td>False</td>\n",
       "      <td>False</td>\n",
       "      <td>False</td>\n",
       "      <td>True</td>\n",
       "      <td>False</td>\n",
       "      <td>False</td>\n",
       "      <td>False</td>\n",
       "      <td>False</td>\n",
       "      <td>...</td>\n",
       "      <td>0.0</td>\n",
       "      <td>0.0</td>\n",
       "      <td>0.0</td>\n",
       "      <td>0.0</td>\n",
       "      <td>0.0</td>\n",
       "      <td>0.0</td>\n",
       "      <td>0.0</td>\n",
       "      <td>0.0</td>\n",
       "      <td>0.0</td>\n",
       "      <td>65</td>\n",
       "    </tr>\n",
       "    <tr>\n",
       "      <th>3</th>\n",
       "      <td>5</td>\n",
       "      <td>10.0</td>\n",
       "      <td>False</td>\n",
       "      <td>False</td>\n",
       "      <td>True</td>\n",
       "      <td>False</td>\n",
       "      <td>False</td>\n",
       "      <td>False</td>\n",
       "      <td>False</td>\n",
       "      <td>False</td>\n",
       "      <td>...</td>\n",
       "      <td>NaN</td>\n",
       "      <td>NaN</td>\n",
       "      <td>NaN</td>\n",
       "      <td>NaN</td>\n",
       "      <td>NaN</td>\n",
       "      <td>NaN</td>\n",
       "      <td>NaN</td>\n",
       "      <td>NaN</td>\n",
       "      <td>NaN</td>\n",
       "      <td>94</td>\n",
       "    </tr>\n",
       "    <tr>\n",
       "      <th>4</th>\n",
       "      <td>15</td>\n",
       "      <td>1.0</td>\n",
       "      <td>False</td>\n",
       "      <td>True</td>\n",
       "      <td>False</td>\n",
       "      <td>False</td>\n",
       "      <td>False</td>\n",
       "      <td>False</td>\n",
       "      <td>False</td>\n",
       "      <td>False</td>\n",
       "      <td>...</td>\n",
       "      <td>0.0</td>\n",
       "      <td>0.0</td>\n",
       "      <td>1.0</td>\n",
       "      <td>0.0</td>\n",
       "      <td>0.0</td>\n",
       "      <td>0.0</td>\n",
       "      <td>0.0</td>\n",
       "      <td>0.0</td>\n",
       "      <td>0.0</td>\n",
       "      <td>203</td>\n",
       "    </tr>\n",
       "  </tbody>\n",
       "</table>\n",
       "<p>5 rows × 259 columns</p>\n",
       "</div>"
      ],
      "text/plain": [
       "   Unnamed: 0  AP1. Wie alt sind Sie?  AP1. Wie alt sind Sie?_0.0  \\\n",
       "0           0                     2.0                       False   \n",
       "1           1                     2.0                       False   \n",
       "2           3                     2.0                       False   \n",
       "3           5                    10.0                       False   \n",
       "4          15                     1.0                       False   \n",
       "\n",
       "   AP1. Wie alt sind Sie?_1.0  AP1. Wie alt sind Sie?_10.0  \\\n",
       "0                       False                        False   \n",
       "1                       False                        False   \n",
       "2                       False                        False   \n",
       "3                       False                         True   \n",
       "4                        True                        False   \n",
       "\n",
       "   AP1. Wie alt sind Sie?_2.0  AP1. Wie alt sind Sie?_3.0  \\\n",
       "0                        True                       False   \n",
       "1                        True                       False   \n",
       "2                        True                       False   \n",
       "3                       False                       False   \n",
       "4                       False                       False   \n",
       "\n",
       "   AP1. Wie alt sind Sie?_4.0  AP1. Wie alt sind Sie?_5.0  \\\n",
       "0                       False                       False   \n",
       "1                       False                       False   \n",
       "2                       False                       False   \n",
       "3                       False                       False   \n",
       "4                       False                       False   \n",
       "\n",
       "   AP1. Wie alt sind Sie?_6.0  ...  \\\n",
       "0                       False  ...   \n",
       "1                       False  ...   \n",
       "2                       False  ...   \n",
       "3                       False  ...   \n",
       "4                       False  ...   \n",
       "\n",
       "   M9u[SQ005]. Wie ist Ihre Perspektive nach Ablauf Ihres derzeitigen Arbeitsvertrags?  [Unbefristete Stelle an einer anderen Institution ]  \\\n",
       "0                                                0.0                                                                                          \n",
       "1                                                0.0                                                                                          \n",
       "2                                                0.0                                                                                          \n",
       "3                                                NaN                                                                                          \n",
       "4                                                0.0                                                                                          \n",
       "\n",
       "   M9u[SQ006]. Wie ist Ihre Perspektive nach Ablauf Ihres derzeitigen Arbeitsvertrags?  [Befristete Stelle bzw. Projekt an einer anderen Institution]  \\\n",
       "0                                                0.0                                                                                                    \n",
       "1                                                0.0                                                                                                    \n",
       "2                                                0.0                                                                                                    \n",
       "3                                                NaN                                                                                                    \n",
       "4                                                0.0                                                                                                    \n",
       "\n",
       "   M9u[SQ007]. Wie ist Ihre Perspektive nach Ablauf Ihres derzeitigen Arbeitsvertrags?  [Antrags- bzw. Bewerbungsphase]  \\\n",
       "0                                                0.0                                                                      \n",
       "1                                                0.0                                                                      \n",
       "2                                                0.0                                                                      \n",
       "3                                                NaN                                                                      \n",
       "4                                                1.0                                                                      \n",
       "\n",
       "   M9u[SQ008]. Wie ist Ihre Perspektive nach Ablauf Ihres derzeitigen Arbeitsvertrags?  [Hoffnung auf eine Stelle oder ein Anschlussprojekt]  \\\n",
       "0                                                0.0                                                                                           \n",
       "1                                                0.0                                                                                           \n",
       "2                                                0.0                                                                                           \n",
       "3                                                NaN                                                                                           \n",
       "4                                                0.0                                                                                           \n",
       "\n",
       "   M9u[SQ009]. Wie ist Ihre Perspektive nach Ablauf Ihres derzeitigen Arbeitsvertrags?  [Weiterqualifikation ]  \\\n",
       "0                                                0.0                                                             \n",
       "1                                                0.0                                                             \n",
       "2                                                0.0                                                             \n",
       "3                                                NaN                                                             \n",
       "4                                                0.0                                                             \n",
       "\n",
       "   M9u[SQ010]. Wie ist Ihre Perspektive nach Ablauf Ihres derzeitigen Arbeitsvertrags?  [Mutterschutz bzw. Elternzeit]  \\\n",
       "0                                                0.0                                                                     \n",
       "1                                                0.0                                                                     \n",
       "2                                                0.0                                                                     \n",
       "3                                                NaN                                                                     \n",
       "4                                                0.0                                                                     \n",
       "\n",
       "   M9u[SQ011]. Wie ist Ihre Perspektive nach Ablauf Ihres derzeitigen Arbeitsvertrags?  [Berufliche Umorientierung ]  \\\n",
       "0                                                0.0                                                                   \n",
       "1                                                0.0                                                                   \n",
       "2                                                0.0                                                                   \n",
       "3                                                NaN                                                                   \n",
       "4                                                0.0                                                                   \n",
       "\n",
       "   M9u[SQ012]. Wie ist Ihre Perspektive nach Ablauf Ihres derzeitigen Arbeitsvertrags?  [Anspruch auf ALG I ]  \\\n",
       "0                                                0.0                                                            \n",
       "1                                                0.0                                                            \n",
       "2                                                0.0                                                            \n",
       "3                                                NaN                                                            \n",
       "4                                                0.0                                                            \n",
       "\n",
       "   M9u[SQ013]. Wie ist Ihre Perspektive nach Ablauf Ihres derzeitigen Arbeitsvertrags?  [Antrag auf ALG II (Hartz IV) ]  \\\n",
       "0                                                0.0                                                                      \n",
       "1                                                0.0                                                                      \n",
       "2                                                0.0                                                                      \n",
       "3                                                NaN                                                                      \n",
       "4                                                0.0                                                                      \n",
       "\n",
       "   id. Antwort ID  \n",
       "0             953  \n",
       "1              24  \n",
       "2              65  \n",
       "3              94  \n",
       "4             203  \n",
       "\n",
       "[5 rows x 259 columns]"
      ]
     },
     "execution_count": 6,
     "metadata": {},
     "output_type": "execute_result"
    }
   ],
   "source": [
    "df_museum = pd.read_csv('../data/processed/02_cleaned_data_M.csv')\n",
    "df_museum.head()"
   ]
  },
  {
   "cell_type": "markdown",
   "metadata": {},
   "source": [
    "## Arbeitsverträge"
   ]
  },
  {
   "cell_type": "code",
   "execution_count": 7,
   "metadata": {},
   "outputs": [
    {
     "data": {
      "text/plain": [
       "224"
      ]
     },
     "execution_count": 7,
     "metadata": {},
     "output_type": "execute_result"
    }
   ],
   "source": [
    "print(df_museum['M9. Sind Sie momentan befristet beschäftigt?\\xa0_1'].value_counts())\n",
    "print(df_museum['M9. Sind Sie momentan befristet beschäftigt?\\xa0_Nein, ich habe eine entfristete Stelle.'].value_counts())"
   ]
  },
  {
   "cell_type": "code",
   "execution_count": 25,
   "metadata": {},
   "outputs": [
    {
     "name": "stderr",
     "output_type": "stream",
     "text": [
      "/tmp/ipykernel_28015/800868979.py:4: DeprecationWarning: Conversion of an array with ndim > 0 to a scalar is deprecated, and will error in future. Ensure you extract a single element from your array before performing this operation. (Deprecated NumPy 1.25.)\n",
      "  'totals' : [int([df_museum['M9. Sind Sie momentan befristet beschäftigt?\\xa0_1'].sum()] + df_museum['M9. Sind Sie momentan befristet beschäftigt?\\xa0_Nein, ich habe eine entfristete Stelle.'].sum())]\n"
     ]
    },
    {
     "data": {
      "text/plain": [
       "{'fixed_term': [224], 'permanent': [174], 'totals': [398]}"
      ]
     },
     "execution_count": 25,
     "metadata": {},
     "output_type": "execute_result"
    }
   ],
   "source": [
    "dict_work_condition = {\n",
    "    'fixed_term' : [df_museum['M9. Sind Sie momentan befristet beschäftigt?\\xa0_1'].sum()],\n",
    "    'permanent' : [df_museum['M9. Sind Sie momentan befristet beschäftigt?\\xa0_Nein, ich habe eine entfristete Stelle.'].sum()],\n",
    "    'totals' : [int([df_museum['M9. Sind Sie momentan befristet beschäftigt?\\xa0_1'].sum()] + df_museum['M9. Sind Sie momentan befristet beschäftigt?\\xa0_Nein, ich habe eine entfristete Stelle.'].sum())]\n",
    "}\n",
    "dict_work_condition"
   ]
  },
  {
   "cell_type": "code",
   "execution_count": 29,
   "metadata": {},
   "outputs": [
    {
     "data": {
      "text/html": [
       "<div>\n",
       "<style scoped>\n",
       "    .dataframe tbody tr th:only-of-type {\n",
       "        vertical-align: middle;\n",
       "    }\n",
       "\n",
       "    .dataframe tbody tr th {\n",
       "        vertical-align: top;\n",
       "    }\n",
       "\n",
       "    .dataframe thead th {\n",
       "        text-align: right;\n",
       "    }\n",
       "</style>\n",
       "<table border=\"1\" class=\"dataframe\">\n",
       "  <thead>\n",
       "    <tr style=\"text-align: right;\">\n",
       "      <th></th>\n",
       "      <th>fixed_term</th>\n",
       "      <th>permanent</th>\n",
       "      <th>totals</th>\n",
       "      <th>FixedTermPerc</th>\n",
       "      <th>PermanentPerc</th>\n",
       "    </tr>\n",
       "  </thead>\n",
       "  <tbody>\n",
       "    <tr>\n",
       "      <th>0</th>\n",
       "      <td>224</td>\n",
       "      <td>174</td>\n",
       "      <td>398</td>\n",
       "      <td>56.281407</td>\n",
       "      <td>43.718593</td>\n",
       "    </tr>\n",
       "  </tbody>\n",
       "</table>\n",
       "</div>"
      ],
      "text/plain": [
       "   fixed_term  permanent  totals  FixedTermPerc  PermanentPerc\n",
       "0         224        174     398      56.281407      43.718593"
      ]
     },
     "execution_count": 29,
     "metadata": {},
     "output_type": "execute_result"
    }
   ],
   "source": [
    "df_contract = pd.DataFrame.from_dict(dict_work_condition, orient='columns')\n",
    "df_contract['FixedTermPerc'] = (df_contract['fixed_term'] / df_contract['totals'])*100\n",
    "df_contract['PermanentPerc'] = (df_contract['permanent'] / df_contract['totals'])*100\n",
    "df_contract"
   ]
  },
  {
   "cell_type": "code",
   "execution_count": 38,
   "metadata": {},
   "outputs": [],
   "source": [
    "#!mkdir ../reports/figures/museum/"
   ]
  },
  {
   "cell_type": "code",
   "execution_count": 43,
   "metadata": {},
   "outputs": [
    {
     "data": {
      "image/png": "[encoded data removed]",
      "text/plain": [
       "<Figure size 200x600 with 1 Axes>"
      ]
     },
     "metadata": {},
     "output_type": "display_data"
    }
   ],
   "source": [
    "stacked_bar_graph(df_contract, \n",
    "                  cols_perc=['FixedTermPerc', 'PermanentPerc'], \n",
    "                  title_name='Arbeitsvertragsbefristungen', \n",
    "                  ls_x_ticks=[], \n",
    "                  str_x_label='', \n",
    "                  ls_legend_levels=['befristet', 'unbefristet'],\n",
    "                  dir_to_save='../reports/figures/museum/',\n",
    "                  data_name='M_001_M9_Befristung.png',\n",
    "                  figsize=(2,6))"
   ]
  },
  {
   "cell_type": "markdown",
   "metadata": {},
   "source": [
    "### Geschlecht & Arbeitsverträge"
   ]
  },
  {
   "cell_type": "code",
   "execution_count": null,
   "metadata": {},
   "outputs": [],
   "source": [
    "df_museum['CO6. Welchem Geschlecht ordnen Sie sich zu?_Divers']"
   ]
  },
  {
   "cell_type": "code",
   "execution_count": 45,
   "metadata": {},
   "outputs": [
    {
     "data": {
      "text/plain": [
       "{'Männlich': [73], 'Weiblich': [326], 'totals': [399]}"
      ]
     },
     "execution_count": 45,
     "metadata": {},
     "output_type": "execute_result"
    }
   ],
   "source": [
    "dict_gender = {\n",
    "    #'Divers' : [df_museum['CO6. Welchem Geschlecht ordnen Sie sich zu?_Divers'].sum()],\n",
    "    'Männlich' : [df_museum['CO6. Welchem Geschlecht ordnen Sie sich zu?_Männlich'].sum()],\n",
    "    'Weiblich' : [df_museum['CO6. Welchem Geschlecht ordnen Sie sich zu?_Weiblich'].sum()],\n",
    "    'totals' : [df_museum['CO6. Welchem Geschlecht ordnen Sie sich zu?_Männlich'].sum() + df_museum['CO6. Welchem Geschlecht ordnen Sie sich zu?_Weiblich'].sum()]\n",
    "}\n",
    "dict_gender"
   ]
  },
  {
   "cell_type": "code",
   "execution_count": 46,
   "metadata": {},
   "outputs": [
    {
     "data": {
      "text/html": [
       "<div>\n",
       "<style scoped>\n",
       "    .dataframe tbody tr th:only-of-type {\n",
       "        vertical-align: middle;\n",
       "    }\n",
       "\n",
       "    .dataframe tbody tr th {\n",
       "        vertical-align: top;\n",
       "    }\n",
       "\n",
       "    .dataframe thead th {\n",
       "        text-align: right;\n",
       "    }\n",
       "</style>\n",
       "<table border=\"1\" class=\"dataframe\">\n",
       "  <thead>\n",
       "    <tr style=\"text-align: right;\">\n",
       "      <th></th>\n",
       "      <th>Männlich</th>\n",
       "      <th>Weiblich</th>\n",
       "      <th>totals</th>\n",
       "      <th>MännlichPerc</th>\n",
       "      <th>WeiblichPerc</th>\n",
       "    </tr>\n",
       "  </thead>\n",
       "  <tbody>\n",
       "    <tr>\n",
       "      <th>0</th>\n",
       "      <td>73</td>\n",
       "      <td>326</td>\n",
       "      <td>399</td>\n",
       "      <td>18.295739</td>\n",
       "      <td>81.704261</td>\n",
       "    </tr>\n",
       "  </tbody>\n",
       "</table>\n",
       "</div>"
      ],
      "text/plain": [
       "   Männlich  Weiblich  totals  MännlichPerc  WeiblichPerc\n",
       "0        73       326     399     18.295739     81.704261"
      ]
     },
     "execution_count": 46,
     "metadata": {},
     "output_type": "execute_result"
    }
   ],
   "source": [
    "df_gender = pd.DataFrame.from_dict(dict_gender)\n",
    "df_gender['MännlichPerc'] = (df_gender['Männlich'] / df_gender['totals']) * 100\n",
    "df_gender['WeiblichPerc'] = (df_gender['Weiblich'] / df_gender['totals']) * 100\n",
    "df_gender"
   ]
  },
  {
   "cell_type": "code",
   "execution_count": 59,
   "metadata": {},
   "outputs": [
    {
     "data": {
      "image/png": "[encoded data removed]",
      "text/plain": [
       "<Figure size 200x600 with 1 Axes>"
      ]
     },
     "metadata": {},
     "output_type": "display_data"
    }
   ],
   "source": [
    "stacked_bar_graph(df_gender, \n",
    "                  cols_perc=['MännlichPerc', 'WeiblichPerc'], \n",
    "                  title_name='Geschlecht', \n",
    "                  ls_x_ticks=[], \n",
    "                  str_x_label='', \n",
    "                  ls_legend_levels=['männlich', 'weiblich'],\n",
    "                  dir_to_save='../reports/figures/museum/',\n",
    "                  data_name='M_002_CO6_Geschlecht.png',\n",
    "                  figsize=(2,6))"
   ]
  },
  {
   "cell_type": "code",
   "execution_count": 55,
   "metadata": {},
   "outputs": [
    {
     "data": {
      "text/html": [
       "<div>\n",
       "<style scoped>\n",
       "    .dataframe tbody tr th:only-of-type {\n",
       "        vertical-align: middle;\n",
       "    }\n",
       "\n",
       "    .dataframe tbody tr th {\n",
       "        vertical-align: top;\n",
       "    }\n",
       "\n",
       "    .dataframe thead th {\n",
       "        text-align: right;\n",
       "    }\n",
       "</style>\n",
       "<table border=\"1\" class=\"dataframe\">\n",
       "  <thead>\n",
       "    <tr style=\"text-align: right;\">\n",
       "      <th></th>\n",
       "      <th>M9. Sind Sie momentan befristet beschäftigt? _1</th>\n",
       "      <th>M9. Sind Sie momentan befristet beschäftigt? _Nein, ich habe eine entfristete Stelle.</th>\n",
       "      <th>totals</th>\n",
       "      <th>M9. Sind Sie momentan befristet beschäftigt? _1Percentage</th>\n",
       "      <th>M9. Sind Sie momentan befristet beschäftigt? _Nein, ich habe eine entfristete Stelle.Percentage</th>\n",
       "    </tr>\n",
       "  </thead>\n",
       "  <tbody>\n",
       "    <tr>\n",
       "      <th>CO6. Welchem Geschlecht ordnen Sie sich zu?_Männlich</th>\n",
       "      <td>28</td>\n",
       "      <td>43</td>\n",
       "      <td>71</td>\n",
       "      <td>39.43662</td>\n",
       "      <td>60.56338</td>\n",
       "    </tr>\n",
       "    <tr>\n",
       "      <th>CO6. Welchem Geschlecht ordnen Sie sich zu?_Weiblich</th>\n",
       "      <td>194</td>\n",
       "      <td>129</td>\n",
       "      <td>323</td>\n",
       "      <td>60.06192</td>\n",
       "      <td>39.93808</td>\n",
       "    </tr>\n",
       "  </tbody>\n",
       "</table>\n",
       "</div>"
      ],
      "text/plain": [
       "                                                    M9. Sind Sie momentan befristet beschäftigt? _1  \\\n",
       "CO6. Welchem Geschlecht ordnen Sie sich zu?_Män...                                               28   \n",
       "CO6. Welchem Geschlecht ordnen Sie sich zu?_Wei...                                              194   \n",
       "\n",
       "                                                    M9. Sind Sie momentan befristet beschäftigt? _Nein, ich habe eine entfristete Stelle.  \\\n",
       "CO6. Welchem Geschlecht ordnen Sie sich zu?_Män...                                                 43                                       \n",
       "CO6. Welchem Geschlecht ordnen Sie sich zu?_Wei...                                                129                                       \n",
       "\n",
       "                                                    totals  \\\n",
       "CO6. Welchem Geschlecht ordnen Sie sich zu?_Män...      71   \n",
       "CO6. Welchem Geschlecht ordnen Sie sich zu?_Wei...     323   \n",
       "\n",
       "                                                    M9. Sind Sie momentan befristet beschäftigt? _1Percentage  \\\n",
       "CO6. Welchem Geschlecht ordnen Sie sich zu?_Män...                                           39.43662           \n",
       "CO6. Welchem Geschlecht ordnen Sie sich zu?_Wei...                                           60.06192           \n",
       "\n",
       "                                                    M9. Sind Sie momentan befristet beschäftigt? _Nein, ich habe eine entfristete Stelle.Percentage  \n",
       "CO6. Welchem Geschlecht ordnen Sie sich zu?_Män...                                           60.56338                                                \n",
       "CO6. Welchem Geschlecht ordnen Sie sich zu?_Wei...                                           39.93808                                                "
      ]
     },
     "execution_count": 55,
     "metadata": {},
     "output_type": "execute_result"
    }
   ],
   "source": [
    "df_gender_contract, ls_gender_contract = cross_analysis_one_hot(cols_first=['CO6. Welchem Geschlecht ordnen Sie sich zu?_Männlich', 'CO6. Welchem Geschlecht ordnen Sie sich zu?_Weiblich'], \n",
    "                       cols_second=['M9. Sind Sie momentan befristet beschäftigt?\\xa0_1', 'M9. Sind Sie momentan befristet beschäftigt?\\xa0_Nein, ich habe eine entfristete Stelle.'],\n",
    "                       df=df_museum)\n",
    "df_gender_contract"
   ]
  },
  {
   "cell_type": "code",
   "execution_count": 61,
   "metadata": {},
   "outputs": [
    {
     "data": {
      "image/png": "[encoded data removed]",
      "text/plain": [
       "<Figure size 400x600 with 1 Axes>"
      ]
     },
     "metadata": {},
     "output_type": "display_data"
    }
   ],
   "source": [
    "stacked_bar_graph(df_gender_contract, \n",
    "                  cols_perc=ls_gender_contract,\n",
    "                  title_name='Befristung nach Geschlecht',\n",
    "                  ls_x_ticks=['Männlich', 'Weiblich'],\n",
    "                  str_x_label='Geschlecht',\n",
    "                  ls_legend_levels=['befristet', 'unbefristet'],\n",
    "                  dir_to_save='../reports/figures/museum/',\n",
    "                  data_name='M_003_CO6_M9_Befristung_nach_Geschlecht',\n",
    "                  figsize = (4,6)\n",
    ")"
   ]
  },
  {
   "cell_type": "markdown",
   "metadata": {},
   "source": [
    "### Laufzeit Verträge"
   ]
  },
  {
   "cell_type": "code",
   "execution_count": 77,
   "metadata": {},
   "outputs": [
    {
     "data": {
      "text/plain": [
       "['M9r. Wie lang ist die Laufzeit Ihres derzeitigen Arbeitsverhältnisses?\\xa0_1 Jahr',\n",
       " 'M9r. Wie lang ist die Laufzeit Ihres derzeitigen Arbeitsverhältnisses?\\xa0_2 Jahre',\n",
       " 'M9r. Wie lang ist die Laufzeit Ihres derzeitigen Arbeitsverhältnisses?\\xa0_3 Jahre',\n",
       " 'M9r. Wie lang ist die Laufzeit Ihres derzeitigen Arbeitsverhältnisses?\\xa0_4 Jahre',\n",
       " 'M9r. Wie lang ist die Laufzeit Ihres derzeitigen Arbeitsverhältnisses?\\xa0_> 4 Jahre',\n",
       " 'M9r. Wie lang ist die Laufzeit Ihres derzeitigen Arbeitsverhältnisses?\\xa0_Sonstiges']"
      ]
     },
     "execution_count": 77,
     "metadata": {},
     "output_type": "execute_result"
    }
   ],
   "source": [
    "ls_col_con_length = [col for col in df_museum.columns if col.startswith('M9r')]\n",
    "ls_col_con_length"
   ]
  },
  {
   "cell_type": "code",
   "execution_count": 78,
   "metadata": {},
   "outputs": [
    {
     "data": {
      "text/plain": [
       "{'M9r. Wie lang ist die Laufzeit Ihres derzeitigen Arbeitsverhältnisses?\\xa0_1 Jahr': 47,\n",
       " 'M9r. Wie lang ist die Laufzeit Ihres derzeitigen Arbeitsverhältnisses?\\xa0_2 Jahre': 101,\n",
       " 'M9r. Wie lang ist die Laufzeit Ihres derzeitigen Arbeitsverhältnisses?\\xa0_3 Jahre': 19,\n",
       " 'M9r. Wie lang ist die Laufzeit Ihres derzeitigen Arbeitsverhältnisses?\\xa0_4 Jahre': 9,\n",
       " 'M9r. Wie lang ist die Laufzeit Ihres derzeitigen Arbeitsverhältnisses?\\xa0_> 4 Jahre': 8,\n",
       " 'M9r. Wie lang ist die Laufzeit Ihres derzeitigen Arbeitsverhältnisses?\\xa0_Sonstiges': 39}"
      ]
     },
     "execution_count": 78,
     "metadata": {},
     "output_type": "execute_result"
    }
   ],
   "source": [
    "dict_laufzeit = dict()\n",
    "for i in ls_col_con_length:\n",
    "    dict_laufzeit[i] = df_museum[i].sum()\n",
    "dict_laufzeit"
   ]
  },
  {
   "cell_type": "code",
   "execution_count": 79,
   "metadata": {},
   "outputs": [
    {
     "data": {
      "text/plain": [
       "{'M9r. Wie lang ist die Laufzeit Ihres derzeitigen Arbeitsverhältnisses?\\xa0_1 Jahr': 47,\n",
       " 'M9r. Wie lang ist die Laufzeit Ihres derzeitigen Arbeitsverhältnisses?\\xa0_2 Jahre': 101,\n",
       " 'M9r. Wie lang ist die Laufzeit Ihres derzeitigen Arbeitsverhältnisses?\\xa0_3 Jahre': 19,\n",
       " 'M9r. Wie lang ist die Laufzeit Ihres derzeitigen Arbeitsverhältnisses?\\xa0_4 Jahre': 9,\n",
       " 'M9r. Wie lang ist die Laufzeit Ihres derzeitigen Arbeitsverhältnisses?\\xa0_> 4 Jahre': 8,\n",
       " 'M9r. Wie lang ist die Laufzeit Ihres derzeitigen Arbeitsverhältnisses?\\xa0_Sonstiges': 39,\n",
       " 'totals': 223}"
      ]
     },
     "execution_count": 79,
     "metadata": {},
     "output_type": "execute_result"
    }
   ],
   "source": [
    "dict_laufzeit['totals'] = sum(dict_laufzeit.values())\n",
    "dict_laufzeit"
   ]
  },
  {
   "cell_type": "code",
   "execution_count": 80,
   "metadata": {},
   "outputs": [
    {
     "data": {
      "text/plain": [
       "{'M9r. Wie lang ist die Laufzeit Ihres derzeitigen Arbeitsverhältnisses?\\xa0_1 Jahr': 47,\n",
       " 'M9r. Wie lang ist die Laufzeit Ihres derzeitigen Arbeitsverhältnisses?\\xa0_2 Jahre': 101,\n",
       " 'M9r. Wie lang ist die Laufzeit Ihres derzeitigen Arbeitsverhältnisses?\\xa0_3 Jahre': 19,\n",
       " 'M9r. Wie lang ist die Laufzeit Ihres derzeitigen Arbeitsverhältnisses?\\xa0_4 Jahre': 9,\n",
       " 'M9r. Wie lang ist die Laufzeit Ihres derzeitigen Arbeitsverhältnisses?\\xa0_> 4 Jahre': 8,\n",
       " 'M9r. Wie lang ist die Laufzeit Ihres derzeitigen Arbeitsverhältnisses?\\xa0_Sonstiges': 39,\n",
       " 'totals': 223,\n",
       " 'M9r. Wie lang ist die Laufzeit Ihres derzeitigen Arbeitsverhältnisses?\\xa0_1 JahrPerc': 21.076233183856502,\n",
       " 'M9r. Wie lang ist die Laufzeit Ihres derzeitigen Arbeitsverhältnisses?\\xa0_2 JahrePerc': 45.2914798206278,\n",
       " 'M9r. Wie lang ist die Laufzeit Ihres derzeitigen Arbeitsverhältnisses?\\xa0_3 JahrePerc': 8.520179372197308,\n",
       " 'M9r. Wie lang ist die Laufzeit Ihres derzeitigen Arbeitsverhältnisses?\\xa0_4 JahrePerc': 4.0358744394618835,\n",
       " 'M9r. Wie lang ist die Laufzeit Ihres derzeitigen Arbeitsverhältnisses?\\xa0_> 4 JahrePerc': 3.587443946188341,\n",
       " 'M9r. Wie lang ist die Laufzeit Ihres derzeitigen Arbeitsverhältnisses?\\xa0_SonstigesPerc': 17.48878923766816}"
      ]
     },
     "execution_count": 80,
     "metadata": {},
     "output_type": "execute_result"
    }
   ],
   "source": [
    "for i in ls_col_con_length:\n",
    "    dict_laufzeit[f'{i}Perc'] = (dict_laufzeit[i]/dict_laufzeit['totals'])*100\n",
    "dict_laufzeit"
   ]
  },
  {
   "cell_type": "code",
   "execution_count": 81,
   "metadata": {},
   "outputs": [
    {
     "data": {
      "text/html": [
       "<div>\n",
       "<style scoped>\n",
       "    .dataframe tbody tr th:only-of-type {\n",
       "        vertical-align: middle;\n",
       "    }\n",
       "\n",
       "    .dataframe tbody tr th {\n",
       "        vertical-align: top;\n",
       "    }\n",
       "\n",
       "    .dataframe thead th {\n",
       "        text-align: right;\n",
       "    }\n",
       "</style>\n",
       "<table border=\"1\" class=\"dataframe\">\n",
       "  <thead>\n",
       "    <tr style=\"text-align: right;\">\n",
       "      <th></th>\n",
       "      <th>M9r. Wie lang ist die Laufzeit Ihres derzeitigen Arbeitsverhältnisses? _1 Jahr</th>\n",
       "      <th>M9r. Wie lang ist die Laufzeit Ihres derzeitigen Arbeitsverhältnisses? _2 Jahre</th>\n",
       "      <th>M9r. Wie lang ist die Laufzeit Ihres derzeitigen Arbeitsverhältnisses? _3 Jahre</th>\n",
       "      <th>M9r. Wie lang ist die Laufzeit Ihres derzeitigen Arbeitsverhältnisses? _4 Jahre</th>\n",
       "      <th>M9r. Wie lang ist die Laufzeit Ihres derzeitigen Arbeitsverhältnisses? _&gt; 4 Jahre</th>\n",
       "      <th>M9r. Wie lang ist die Laufzeit Ihres derzeitigen Arbeitsverhältnisses? _Sonstiges</th>\n",
       "      <th>totals</th>\n",
       "      <th>M9r. Wie lang ist die Laufzeit Ihres derzeitigen Arbeitsverhältnisses? _1 JahrPerc</th>\n",
       "      <th>M9r. Wie lang ist die Laufzeit Ihres derzeitigen Arbeitsverhältnisses? _2 JahrePerc</th>\n",
       "      <th>M9r. Wie lang ist die Laufzeit Ihres derzeitigen Arbeitsverhältnisses? _3 JahrePerc</th>\n",
       "      <th>M9r. Wie lang ist die Laufzeit Ihres derzeitigen Arbeitsverhältnisses? _4 JahrePerc</th>\n",
       "      <th>M9r. Wie lang ist die Laufzeit Ihres derzeitigen Arbeitsverhältnisses? _&gt; 4 JahrePerc</th>\n",
       "      <th>M9r. Wie lang ist die Laufzeit Ihres derzeitigen Arbeitsverhältnisses? _SonstigesPerc</th>\n",
       "    </tr>\n",
       "  </thead>\n",
       "  <tbody>\n",
       "    <tr>\n",
       "      <th>0</th>\n",
       "      <td>47</td>\n",
       "      <td>101</td>\n",
       "      <td>19</td>\n",
       "      <td>9</td>\n",
       "      <td>8</td>\n",
       "      <td>39</td>\n",
       "      <td>223</td>\n",
       "      <td>21.076233</td>\n",
       "      <td>45.29148</td>\n",
       "      <td>8.520179</td>\n",
       "      <td>4.035874</td>\n",
       "      <td>3.587444</td>\n",
       "      <td>17.488789</td>\n",
       "    </tr>\n",
       "  </tbody>\n",
       "</table>\n",
       "</div>"
      ],
      "text/plain": [
       "   M9r. Wie lang ist die Laufzeit Ihres derzeitigen Arbeitsverhältnisses? _1 Jahr  \\\n",
       "0                                                 47                                \n",
       "\n",
       "   M9r. Wie lang ist die Laufzeit Ihres derzeitigen Arbeitsverhältnisses? _2 Jahre  \\\n",
       "0                                                101                                 \n",
       "\n",
       "   M9r. Wie lang ist die Laufzeit Ihres derzeitigen Arbeitsverhältnisses? _3 Jahre  \\\n",
       "0                                                 19                                 \n",
       "\n",
       "   M9r. Wie lang ist die Laufzeit Ihres derzeitigen Arbeitsverhältnisses? _4 Jahre  \\\n",
       "0                                                  9                                 \n",
       "\n",
       "   M9r. Wie lang ist die Laufzeit Ihres derzeitigen Arbeitsverhältnisses? _> 4 Jahre  \\\n",
       "0                                                  8                                   \n",
       "\n",
       "   M9r. Wie lang ist die Laufzeit Ihres derzeitigen Arbeitsverhältnisses? _Sonstiges  \\\n",
       "0                                                 39                                   \n",
       "\n",
       "   totals  \\\n",
       "0     223   \n",
       "\n",
       "   M9r. Wie lang ist die Laufzeit Ihres derzeitigen Arbeitsverhältnisses? _1 JahrPerc  \\\n",
       "0                                          21.076233                                    \n",
       "\n",
       "   M9r. Wie lang ist die Laufzeit Ihres derzeitigen Arbeitsverhältnisses? _2 JahrePerc  \\\n",
       "0                                           45.29148                                     \n",
       "\n",
       "   M9r. Wie lang ist die Laufzeit Ihres derzeitigen Arbeitsverhältnisses? _3 JahrePerc  \\\n",
       "0                                           8.520179                                     \n",
       "\n",
       "   M9r. Wie lang ist die Laufzeit Ihres derzeitigen Arbeitsverhältnisses? _4 JahrePerc  \\\n",
       "0                                           4.035874                                     \n",
       "\n",
       "   M9r. Wie lang ist die Laufzeit Ihres derzeitigen Arbeitsverhältnisses? _> 4 JahrePerc  \\\n",
       "0                                           3.587444                                       \n",
       "\n",
       "   M9r. Wie lang ist die Laufzeit Ihres derzeitigen Arbeitsverhältnisses? _SonstigesPerc  \n",
       "0                                          17.488789                                      "
      ]
     },
     "execution_count": 81,
     "metadata": {},
     "output_type": "execute_result"
    }
   ],
   "source": [
    "df_laufzeit = pd.DataFrame.from_dict([dict_laufzeit])\n",
    "df_laufzeit"
   ]
  },
  {
   "cell_type": "code",
   "execution_count": 82,
   "metadata": {},
   "outputs": [
    {
     "data": {
      "text/plain": [
       "['M9r. Wie lang ist die Laufzeit Ihres derzeitigen Arbeitsverhältnisses?\\xa0_1 JahrPerc',\n",
       " 'M9r. Wie lang ist die Laufzeit Ihres derzeitigen Arbeitsverhältnisses?\\xa0_2 JahrePerc',\n",
       " 'M9r. Wie lang ist die Laufzeit Ihres derzeitigen Arbeitsverhältnisses?\\xa0_3 JahrePerc',\n",
       " 'M9r. Wie lang ist die Laufzeit Ihres derzeitigen Arbeitsverhältnisses?\\xa0_4 JahrePerc',\n",
       " 'M9r. Wie lang ist die Laufzeit Ihres derzeitigen Arbeitsverhältnisses?\\xa0_> 4 JahrePerc',\n",
       " 'M9r. Wie lang ist die Laufzeit Ihres derzeitigen Arbeitsverhältnisses?\\xa0_SonstigesPerc']"
      ]
     },
     "execution_count": 82,
     "metadata": {},
     "output_type": "execute_result"
    }
   ],
   "source": [
    "ls_laufzeit_perc = [col for col in df_laufzeit.columns if col.endswith('Perc')]\n",
    "ls_laufzeit_perc"
   ]
  },
  {
   "cell_type": "code",
   "execution_count": 83,
   "metadata": {},
   "outputs": [
    {
     "data": {
      "image/png": "[encoded data removed]",
      "text/plain": [
       "<Figure size 200x600 with 1 Axes>"
      ]
     },
     "metadata": {},
     "output_type": "display_data"
    }
   ],
   "source": [
    "stacked_bar_graph(df_laufzeit, \n",
    "                  cols_perc=ls_laufzeit_perc, \n",
    "                  title_name='Laufzeit befristeter Verträge', \n",
    "                  ls_x_ticks=[], \n",
    "                  str_x_label='', \n",
    "                  ls_legend_levels=['1 Jahr', '2 Jahre', '3 Jahre', '4 Jahre', '> 4 Jahre', 'Sonstiges'],\n",
    "                  dir_to_save='../reports/figures/museum/',\n",
    "                  data_name='M_004_M9r_Vertragslaufzeit.png',\n",
    "                  figsize=(2,6))"
   ]
  },
  {
   "cell_type": "code",
   "execution_count": null,
   "metadata": {},
   "outputs": [],
   "source": []
  }
 ],
 "metadata": {
  "kernelspec": {
   "display_name": "Ulmer_Verein",
   "language": "python",
   "name": "python3"
  },
  "language_info": {
   "codemirror_mode": {
    "name": "ipython",
    "version": 3
   },
   "file_extension": ".py",
   "mimetype": "text/x-python",
   "name": "python",
   "nbconvert_exporter": "python",
   "pygments_lexer": "ipython3",
   "version": "3.12.1"
  }
 },
 "nbformat": 4,
 "nbformat_minor": 2
}
